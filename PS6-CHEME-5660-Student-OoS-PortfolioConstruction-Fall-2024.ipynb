{
 "cells": [
  {
   "cell_type": "markdown",
   "id": "3bdb7d70-f067-4a8f-8c82-23df3f101a78",
   "metadata": {},
   "source": [
    "# PS6: Simulation of Ticker Picker Portfolios\n",
    "In the lecture, we developed the `ticker picker` agent, which learned by analyzing historical daily data sequences the probability that a ticker would outperform an alternative investment over a specified N-trading day period. We considered two scenarios: when the `ticker picker` was unaware of risk and when the agents were risk-aware (where risk, in this context, was measured in powers of $\\beta$). \n",
    "\n",
    "We had the agents rank their top-10 portfolios, and from that, we computed the probability of a ticker appearing in a top-10 portfolio. We saved all this preference data to avoid rerunning those calculations here.\n",
    "\n",
    "### Problem\n",
    "In this problem set, we will use agents trained using `SPY` as the alternative investment to select our portfolio's stocks (or ETFs). This is a different, potentially more exciting set of agents than we constructed in the lecture examples. In particular, we'll query the `SPY` ticker-picker agents and have them vote for a list of tickers to include in our portfolio $\\mathcal{P}$ given an investment budget $\\mathcal{B}$. We then compare the performance of our portfolio $\\mathcal{P}$ (assuming equally weighted) to a portfolio consisting of `SPY` alone.\n",
    "\n",
    "Walk through the calculations and fill in the missing components."
   ]
  },
  {
   "cell_type": "markdown",
   "id": "6c839f72-e4e4-4a26-ac26-703871f10acb",
   "metadata": {},
   "source": [
    "## Setup\n",
    "We set up the computational environment by including the `Include.jl` file. The `Include.jl` file loads external packages, various functions that we will use in the exercise, and custom types to model the components of our lab problem.\n",
    "* For additional information on functions and types used in this material, see the [Julia programming language documentation](https://docs.julialang.org/en/v1/) and the [VLQuantitativeFinancePackage.jl documentation](https://github.com/varnerlab/VLQuantitativeFinancePackage.jl)."
   ]
  },
  {
   "cell_type": "code",
   "execution_count": 1,
   "id": "03d78725-d746-4288-83db-c149ba18dde6",
   "metadata": {},
   "outputs": [
    {
     "name": "stderr",
     "output_type": "stream",
     "text": [
      "\u001b[32m\u001b[1m    Updating\u001b[22m\u001b[39m git-repo `https://github.com/varnerlab/VLQuantitativeFinancePackage.jl.git`\n",
      "\u001b[32m\u001b[1m   Resolving\u001b[22m\u001b[39m package versions...\n",
      "\u001b[32m\u001b[1m   Installed\u001b[22m\u001b[39m x264_jll ─────── v10164.0.0+0\n",
      "\u001b[32m\u001b[1m   Installed\u001b[22m\u001b[39m FFMPEG_jll ───── v6.1.2+0\n",
      "\u001b[32m\u001b[1m   Installed\u001b[22m\u001b[39m x265_jll ─────── v3.6.0+0\n",
      "\u001b[32m\u001b[1m   Installed\u001b[22m\u001b[39m FFMPEG ───────── v0.2.4\n",
      "\u001b[32m\u001b[1m   Installed\u001b[22m\u001b[39m BinaryProvider ─ v0.5.10\n",
      "\u001b[32m\u001b[1m   Installed\u001b[22m\u001b[39m Plots ────────── v1.40.1\n",
      "\u001b[32m\u001b[1m    Updating\u001b[22m\u001b[39m `~/Desktop/ChemE 5660/PS6/Project.toml`\n",
      "  \u001b[90m[336ed68f] \u001b[39m\u001b[92m+ CSV v0.10.15\u001b[39m\n",
      "  \u001b[90m[5ae59095] \u001b[39m\u001b[92m+ Colors v0.13.0\u001b[39m\n",
      "  \u001b[90m[a93c6f00] \u001b[39m\u001b[92m+ DataFrames v1.7.0\u001b[39m\n",
      "  \u001b[90m[31c24e10] \u001b[39m\u001b[92m+ Distributions v0.25.113\u001b[39m\n",
      "  \u001b[90m[5789e2e9] \u001b[39m\u001b[92m+ FileIO v1.16.6\u001b[39m\n",
      "  \u001b[90m[033835bb] \u001b[39m\u001b[92m+ JLD2 v0.5.10\u001b[39m\n",
      "  \u001b[90m[08abe8d2] \u001b[39m\u001b[92m+ PrettyTables v2.4.0\u001b[39m\n",
      "  \u001b[90m[2913bbd2] \u001b[39m\u001b[92m+ StatsBase v0.34.3\u001b[39m\n",
      "  \u001b[90m[f3b207a7] \u001b[39m\u001b[92m+ StatsPlots v0.15.7\u001b[39m\n",
      "  \u001b[90m[4119e0bf] \u001b[39m\u001b[92m+ VLQuantitativeFinancePackage v1.0.0-DEV `https://github.com/varnerlab/VLQuantitativeFinancePackage.jl.git#main`\u001b[39m\n",
      "\u001b[32m\u001b[1m    Updating\u001b[22m\u001b[39m `~/Desktop/ChemE 5660/PS6/Manifest.toml`\n",
      "  \u001b[90m[621f4979] \u001b[39m\u001b[92m+ AbstractFFTs v1.5.0\u001b[39m\n",
      "  \u001b[90m[79e6a3ab] \u001b[39m\u001b[92m+ Adapt v4.1.1\u001b[39m\n",
      "  \u001b[90m[66dad0bd] \u001b[39m\u001b[92m+ AliasTables v1.1.3\u001b[39m\n",
      "  \u001b[90m[7d9fca2a] \u001b[39m\u001b[92m+ Arpack v0.5.4\u001b[39m\n",
      "  \u001b[90m[4fba245c] \u001b[39m\u001b[92m+ ArrayInterface v7.17.1\u001b[39m\n",
      "  \u001b[90m[13072b0f] \u001b[39m\u001b[92m+ AxisAlgorithms v1.1.0\u001b[39m\n",
      "  \u001b[90m[6e4b80f9] \u001b[39m\u001b[92m+ BenchmarkTools v1.5.0\u001b[39m\n",
      "  \u001b[90m[b99e7846] \u001b[39m\u001b[92m+ BinaryProvider v0.5.10\u001b[39m\n",
      "  \u001b[90m[d1d4a3ce] \u001b[39m\u001b[92m+ BitFlags v0.1.9\u001b[39m\n",
      "  \u001b[90m[336ed68f] \u001b[39m\u001b[92m+ CSV v0.10.15\u001b[39m\n",
      "  \u001b[90m[d360d2e6] \u001b[39m\u001b[92m+ ChainRulesCore v1.25.0\u001b[39m\n",
      "  \u001b[90m[aaaa29a8] \u001b[39m\u001b[92m+ Clustering v0.15.7\u001b[39m\n",
      "  \u001b[90m[523fee87] \u001b[39m\u001b[92m+ CodecBzip2 v0.8.4\u001b[39m\n",
      "  \u001b[90m[944b1d66] \u001b[39m\u001b[92m+ CodecZlib v0.7.6\u001b[39m\n",
      "  \u001b[90m[35d6a980] \u001b[39m\u001b[92m+ ColorSchemes v3.27.1\u001b[39m\n",
      "  \u001b[90m[3da002f7] \u001b[39m\u001b[92m+ ColorTypes v0.12.0\u001b[39m\n",
      "  \u001b[90m[c3611d14] \u001b[39m\u001b[92m+ ColorVectorSpace v0.11.0\u001b[39m\n",
      "  \u001b[90m[5ae59095] \u001b[39m\u001b[92m+ Colors v0.13.0\u001b[39m\n",
      "  \u001b[90m[bbf7d656] \u001b[39m\u001b[92m+ CommonSubexpressions v0.3.1\u001b[39m\n",
      "  \u001b[90m[34da2185] \u001b[39m\u001b[92m+ Compat v4.16.0\u001b[39m\n",
      "  \u001b[90m[f0e56b4a] \u001b[39m\u001b[92m+ ConcurrentUtilities v2.4.2\u001b[39m\n",
      "  \u001b[90m[187b0558] \u001b[39m\u001b[92m+ ConstructionBase v1.5.8\u001b[39m\n",
      "  \u001b[90m[d38c429a] \u001b[39m\u001b[92m+ Contour v0.6.3\u001b[39m\n",
      "  \u001b[90m[a8cc5b0e] \u001b[39m\u001b[92m+ Crayons v4.1.1\u001b[39m\n",
      "  \u001b[90m[9a962f9c] \u001b[39m\u001b[92m+ DataAPI v1.16.0\u001b[39m\n",
      "  \u001b[90m[a93c6f00] \u001b[39m\u001b[92m+ DataFrames v1.7.0\u001b[39m\n",
      "  \u001b[90m[864edb3b] \u001b[39m\u001b[92m+ DataStructures v0.18.20\u001b[39m\n",
      "  \u001b[90m[e2d170a0] \u001b[39m\u001b[92m+ DataValueInterfaces v1.0.0\u001b[39m\n",
      "  \u001b[90m[8bb1440f] \u001b[39m\u001b[92m+ DelimitedFiles v1.9.1\u001b[39m\n",
      "  \u001b[90m[163ba53b] \u001b[39m\u001b[92m+ DiffResults v1.1.0\u001b[39m\n",
      "  \u001b[90m[b552c78f] \u001b[39m\u001b[92m+ DiffRules v1.15.1\u001b[39m\n",
      "  \u001b[90m[b4f34e82] \u001b[39m\u001b[92m+ Distances v0.10.12\u001b[39m\n",
      "  \u001b[90m[31c24e10] \u001b[39m\u001b[92m+ Distributions v0.25.113\u001b[39m\n",
      "  \u001b[90m[ffbed154] \u001b[39m\u001b[92m+ DocStringExtensions v0.9.3\u001b[39m\n",
      "  \u001b[90m[460bff9d] \u001b[39m\u001b[92m+ ExceptionUnwrapping v0.1.11\u001b[39m\n",
      "  \u001b[90m[e2ba6199] \u001b[39m\u001b[92m+ ExprTools v0.1.10\u001b[39m\n",
      "\u001b[32m⌃\u001b[39m \u001b[90m[c87230d0] \u001b[39m\u001b[92m+ FFMPEG v0.2.4\u001b[39m\n",
      "  \u001b[90m[7a1cc6ca] \u001b[39m\u001b[92m+ FFTW v1.8.0\u001b[39m\n",
      "  \u001b[90m[9aa1b823] \u001b[39m\u001b[92m+ FastClosures v0.3.2\u001b[39m\n",
      "  \u001b[90m[5789e2e9] \u001b[39m\u001b[92m+ FileIO v1.16.6\u001b[39m\n",
      "  \u001b[90m[48062228] \u001b[39m\u001b[92m+ FilePathsBase v0.9.22\u001b[39m\n",
      "  \u001b[90m[1a297f60] \u001b[39m\u001b[92m+ FillArrays v1.13.0\u001b[39m\n",
      "  \u001b[90m[6a86dc24] \u001b[39m\u001b[92m+ FiniteDiff v2.26.2\u001b[39m\n",
      "  \u001b[90m[53c48c17] \u001b[39m\u001b[92m+ FixedPointNumbers v0.8.5\u001b[39m\n",
      "  \u001b[90m[1fa38f19] \u001b[39m\u001b[92m+ Format v1.3.7\u001b[39m\n",
      "  \u001b[90m[f6369f11] \u001b[39m\u001b[92m+ ForwardDiff v0.10.38\u001b[39m\n",
      "  \u001b[90m[28b8d3ca] \u001b[39m\u001b[92m+ GR v0.73.9\u001b[39m\n",
      "  \u001b[90m[42e2da0e] \u001b[39m\u001b[92m+ Grisu v1.0.2\u001b[39m\n",
      "  \u001b[90m[cd3eb016] \u001b[39m\u001b[92m+ HTTP v1.10.14\u001b[39m\n",
      "  \u001b[90m[34004b35] \u001b[39m\u001b[92m+ HypergeometricFunctions v0.3.25\u001b[39m\n",
      "  \u001b[90m[842dd82b] \u001b[39m\u001b[92m+ InlineStrings v1.4.2\u001b[39m\n",
      "  \u001b[90m[a98d9a8b] \u001b[39m\u001b[92m+ Interpolations v0.15.1\u001b[39m\n",
      "  \u001b[90m[41ab1584] \u001b[39m\u001b[92m+ InvertedIndices v1.3.1\u001b[39m\n",
      "  \u001b[90m[92d709cd] \u001b[39m\u001b[92m+ IrrationalConstants v0.2.2\u001b[39m\n",
      "  \u001b[90m[82899510] \u001b[39m\u001b[92m+ IteratorInterfaceExtensions v1.0.0\u001b[39m\n",
      "  \u001b[90m[033835bb] \u001b[39m\u001b[92m+ JLD2 v0.5.10\u001b[39m\n",
      "  \u001b[90m[1019f520] \u001b[39m\u001b[92m+ JLFzf v0.1.9\u001b[39m\n",
      "  \u001b[90m[692b3bcd] \u001b[39m\u001b[92m+ JLLWrappers v1.6.1\u001b[39m\n",
      "  \u001b[90m[682c06a0] \u001b[39m\u001b[92m+ JSON v0.21.4\u001b[39m\n",
      "  \u001b[90m[4076af6c] \u001b[39m\u001b[92m+ JuMP v1.23.5\u001b[39m\n",
      "  \u001b[90m[5ab0869b] \u001b[39m\u001b[92m+ KernelDensity v0.6.9\u001b[39m\n",
      "  \u001b[90m[b964fa9f] \u001b[39m\u001b[92m+ LaTeXStrings v1.4.0\u001b[39m\n",
      "  \u001b[90m[23fbe1c1] \u001b[39m\u001b[92m+ Latexify v0.16.5\u001b[39m\n",
      "  \u001b[90m[d3d80556] \u001b[39m\u001b[92m+ LineSearches v7.3.0\u001b[39m\n",
      "  \u001b[90m[5c8ed15e] \u001b[39m\u001b[92m+ LinearOperators v2.9.0\u001b[39m\n",
      "  \u001b[90m[2ab3a3ac] \u001b[39m\u001b[92m+ LogExpFunctions v0.3.29\u001b[39m\n",
      "  \u001b[90m[e6f89c97] \u001b[39m\u001b[92m+ LoggingExtras v1.1.0\u001b[39m\n",
      "  \u001b[90m[2fda8390] \u001b[39m\u001b[92m+ LsqFit v0.15.0\u001b[39m\n",
      "  \u001b[90m[1914dd2f] \u001b[39m\u001b[92m+ MacroTools v0.5.13\u001b[39m\n",
      "\u001b[32m⌃\u001b[39m \u001b[90m[2621e9c9] \u001b[39m\u001b[92m+ MadNLP v0.7.0\u001b[39m\n",
      "  \u001b[90m[b8f27783] \u001b[39m\u001b[92m+ MathOptInterface v1.34.0\u001b[39m\n",
      "  \u001b[90m[739be429] \u001b[39m\u001b[92m+ MbedTLS v1.1.9\u001b[39m\n",
      "  \u001b[90m[442fdcdd] \u001b[39m\u001b[92m+ Measures v0.3.2\u001b[39m\n",
      "  \u001b[90m[e1d29d7a] \u001b[39m\u001b[92m+ Missings v1.2.0\u001b[39m\n",
      "  \u001b[90m[6f286f6a] \u001b[39m\u001b[92m+ MultivariateStats v0.10.3\u001b[39m\n",
      "  \u001b[90m[d8a4904e] \u001b[39m\u001b[92m+ MutableArithmetics v1.6.0\u001b[39m\n",
      "\u001b[33m⌅\u001b[39m \u001b[90m[a4795742] \u001b[39m\u001b[92m+ NLPModels v0.20.0\u001b[39m\n",
      "  \u001b[90m[d41bc354] \u001b[39m\u001b[92m+ NLSolversBase v7.8.3\u001b[39m\n",
      "  \u001b[90m[77ba4419] \u001b[39m\u001b[92m+ NaNMath v1.0.2\u001b[39m\n",
      "  \u001b[90m[b8a86587] \u001b[39m\u001b[92m+ NearestNeighbors v0.4.21\u001b[39m\n",
      "  \u001b[90m[510215fc] \u001b[39m\u001b[92m+ Observables v0.5.5\u001b[39m\n",
      "  \u001b[90m[6fe1bfb0] \u001b[39m\u001b[92m+ OffsetArrays v1.14.2\u001b[39m\n",
      "  \u001b[90m[4d8831e6] \u001b[39m\u001b[92m+ OpenSSL v1.4.3\u001b[39m\n",
      "  \u001b[90m[429524aa] \u001b[39m\u001b[92m+ Optim v1.10.0\u001b[39m\n",
      "  \u001b[90m[bac558e1] \u001b[39m\u001b[92m+ OrderedCollections v1.7.0\u001b[39m\n",
      "  \u001b[90m[90014a1f] \u001b[39m\u001b[92m+ PDMats v0.11.31\u001b[39m\n",
      "  \u001b[90m[d96e819e] \u001b[39m\u001b[92m+ Parameters v0.12.3\u001b[39m\n",
      "  \u001b[90m[69de0a69] \u001b[39m\u001b[92m+ Parsers v2.8.1\u001b[39m\n",
      "  \u001b[90m[b98c9c47] \u001b[39m\u001b[92m+ Pipe v1.3.0\u001b[39m\n",
      "  \u001b[90m[ccf2f8ad] \u001b[39m\u001b[92m+ PlotThemes v3.3.0\u001b[39m\n",
      "  \u001b[90m[995b91a9] \u001b[39m\u001b[92m+ PlotUtils v1.4.3\u001b[39m\n",
      "\u001b[32m⌃\u001b[39m \u001b[90m[91a5bcdd] \u001b[39m\u001b[92m+ Plots v1.40.1\u001b[39m\n",
      "  \u001b[90m[2dfb63ee] \u001b[39m\u001b[92m+ PooledArrays v1.4.3\u001b[39m\n",
      "  \u001b[90m[85a6dd25] \u001b[39m\u001b[92m+ PositiveFactorizations v0.2.4\u001b[39m\n",
      "  \u001b[90m[aea7be01] \u001b[39m\u001b[92m+ PrecompileTools v1.2.1\u001b[39m\n",
      "  \u001b[90m[21216c6a] \u001b[39m\u001b[92m+ Preferences v1.4.3\u001b[39m\n",
      "  \u001b[90m[08abe8d2] \u001b[39m\u001b[92m+ PrettyTables v2.4.0\u001b[39m\n",
      "  \u001b[90m[43287f4e] \u001b[39m\u001b[92m+ PtrArrays v1.2.1\u001b[39m\n",
      "  \u001b[90m[1fd47b50] \u001b[39m\u001b[92m+ QuadGK v2.11.1\u001b[39m\n",
      "  \u001b[90m[c84ed2f1] \u001b[39m\u001b[92m+ Ratios v0.4.5\u001b[39m\n",
      "  \u001b[90m[3cdcf5f2] \u001b[39m\u001b[92m+ RecipesBase v1.3.4\u001b[39m\n",
      "  \u001b[90m[01d81517] \u001b[39m\u001b[92m+ RecipesPipeline v0.6.12\u001b[39m\n",
      "  \u001b[90m[189a3867] \u001b[39m\u001b[92m+ Reexport v1.2.2\u001b[39m\n",
      "  \u001b[90m[05181044] \u001b[39m\u001b[92m+ RelocatableFolders v1.0.1\u001b[39m\n",
      "  \u001b[90m[ae029012] \u001b[39m\u001b[92m+ Requires v1.3.0\u001b[39m\n",
      "  \u001b[90m[79098fc4] \u001b[39m\u001b[92m+ Rmath v0.8.0\u001b[39m\n",
      "  \u001b[90m[6c6a2e73] \u001b[39m\u001b[92m+ Scratch v1.2.1\u001b[39m\n",
      "  \u001b[90m[91c51154] \u001b[39m\u001b[92m+ SentinelArrays v1.4.8\u001b[39m\n",
      "  \u001b[90m[efcf1570] \u001b[39m\u001b[92m+ Setfield v1.1.1\u001b[39m\n",
      "  \u001b[90m[992d4aef] \u001b[39m\u001b[92m+ Showoff v1.0.3\u001b[39m\n",
      "  \u001b[90m[777ac1f9] \u001b[39m\u001b[92m+ SimpleBufferStream v1.2.0\u001b[39m\n",
      "  \u001b[90m[ff4d7338] \u001b[39m\u001b[92m+ SolverCore v0.3.8\u001b[39m\n",
      "  \u001b[90m[a2af1166] \u001b[39m\u001b[92m+ SortingAlgorithms v1.2.1\u001b[39m\n",
      "  \u001b[90m[276daf66] \u001b[39m\u001b[92m+ SpecialFunctions v2.5.0\u001b[39m\n",
      "  \u001b[90m[860ef19b] \u001b[39m\u001b[92m+ StableRNGs v1.0.2\u001b[39m\n",
      "  \u001b[90m[90137ffa] \u001b[39m\u001b[92m+ StaticArrays v1.9.8\u001b[39m\n",
      "  \u001b[90m[1e83bf80] \u001b[39m\u001b[92m+ StaticArraysCore v1.4.3\u001b[39m\n",
      "  \u001b[90m[82ae8749] \u001b[39m\u001b[92m+ StatsAPI v1.7.0\u001b[39m\n",
      "  \u001b[90m[2913bbd2] \u001b[39m\u001b[92m+ StatsBase v0.34.3\u001b[39m\n",
      "  \u001b[90m[4c63d2b9] \u001b[39m\u001b[92m+ StatsFuns v1.3.2\u001b[39m\n",
      "  \u001b[90m[f3b207a7] \u001b[39m\u001b[92m+ StatsPlots v0.15.7\u001b[39m\n",
      "  \u001b[90m[892a3eda] \u001b[39m\u001b[92m+ StringManipulation v0.4.0\u001b[39m\n",
      "  \u001b[90m[ab02a1b2] \u001b[39m\u001b[92m+ TableOperations v1.2.0\u001b[39m\n",
      "  \u001b[90m[3783bdb8] \u001b[39m\u001b[92m+ TableTraits v1.0.1\u001b[39m\n",
      "  \u001b[90m[bd369af6] \u001b[39m\u001b[92m+ Tables v1.12.0\u001b[39m\n",
      "  \u001b[90m[62fd8b95] \u001b[39m\u001b[92m+ TensorCore v0.1.1\u001b[39m\n",
      "  \u001b[90m[a759f4b9] \u001b[39m\u001b[92m+ TimerOutputs v0.5.26\u001b[39m\n",
      "  \u001b[90m[3bb67fe8] \u001b[39m\u001b[92m+ TranscodingStreams v0.11.3\u001b[39m\n",
      "  \u001b[90m[5c2747f8] \u001b[39m\u001b[92m+ URIs v1.5.1\u001b[39m\n",
      "  \u001b[90m[3a884ed6] \u001b[39m\u001b[92m+ UnPack v1.0.2\u001b[39m\n",
      "  \u001b[90m[1cfade01] \u001b[39m\u001b[92m+ UnicodeFun v0.4.1\u001b[39m\n",
      "  \u001b[90m[1986cc42] \u001b[39m\u001b[92m+ Unitful v1.21.1\u001b[39m\n",
      "  \u001b[90m[45397f5d] \u001b[39m\u001b[92m+ UnitfulLatexify v1.6.4\u001b[39m\n",
      "  \u001b[90m[41fe7b60] \u001b[39m\u001b[92m+ Unzip v0.2.0\u001b[39m\n",
      "  \u001b[90m[4119e0bf] \u001b[39m\u001b[92m+ VLQuantitativeFinancePackage v1.0.0-DEV `https://github.com/varnerlab/VLQuantitativeFinancePackage.jl.git#main`\u001b[39m\n",
      "  \u001b[90m[ea10d353] \u001b[39m\u001b[92m+ WeakRefStrings v1.4.2\u001b[39m\n",
      "  \u001b[90m[cc8bc4a8] \u001b[39m\u001b[92m+ Widgets v0.6.7\u001b[39m\n",
      "  \u001b[90m[efce3f68] \u001b[39m\u001b[92m+ WoodburyMatrices v1.0.0\u001b[39m\n",
      "  \u001b[90m[76eceee3] \u001b[39m\u001b[92m+ WorkerUtilities v1.6.1\u001b[39m\n",
      "\u001b[33m⌅\u001b[39m \u001b[90m[68821587] \u001b[39m\u001b[92m+ Arpack_jll v3.5.1+1\u001b[39m\n",
      "  \u001b[90m[6e34b625] \u001b[39m\u001b[92m+ Bzip2_jll v1.0.8+2\u001b[39m\n",
      "  \u001b[90m[83423d85] \u001b[39m\u001b[92m+ Cairo_jll v1.18.2+1\u001b[39m\n",
      "  \u001b[90m[ee1fde0b] \u001b[39m\u001b[92m+ Dbus_jll v1.14.10+0\u001b[39m\n",
      "  \u001b[90m[2702e6a9] \u001b[39m\u001b[92m+ EpollShim_jll v0.0.20230411+1\u001b[39m\n",
      "  \u001b[90m[2e619515] \u001b[39m\u001b[92m+ Expat_jll v2.6.4+1\u001b[39m\n",
      "  \u001b[90m[b22a6f82] \u001b[39m\u001b[92m+ FFMPEG_jll v6.1.2+0\u001b[39m\n",
      "  \u001b[90m[f5851436] \u001b[39m\u001b[92m+ FFTW_jll v3.3.10+1\u001b[39m\n",
      "  \u001b[90m[a3f928ae] \u001b[39m\u001b[92m+ Fontconfig_jll v2.15.0+0\u001b[39m\n",
      "  \u001b[90m[d7e528f0] \u001b[39m\u001b[92m+ FreeType2_jll v2.13.3+1\u001b[39m\n",
      "  \u001b[90m[559328eb] \u001b[39m\u001b[92m+ FriBidi_jll v1.0.14+0\u001b[39m\n",
      "  \u001b[90m[0656b61e] \u001b[39m\u001b[92m+ GLFW_jll v3.4.0+1\u001b[39m\n",
      "  \u001b[90m[d2c73de3] \u001b[39m\u001b[92m+ GR_jll v0.73.9+0\u001b[39m\n",
      "  \u001b[90m[78b55507] \u001b[39m\u001b[92m+ Gettext_jll v0.21.0+0\u001b[39m\n",
      "  \u001b[90m[7746bdde] \u001b[39m\u001b[92m+ Glib_jll v2.82.2+1\u001b[39m\n",
      "  \u001b[90m[3b182d85] \u001b[39m\u001b[92m+ Graphite2_jll v1.3.14+1\u001b[39m\n",
      "  \u001b[90m[2e76f6c2] \u001b[39m\u001b[92m+ HarfBuzz_jll v8.5.0+0\u001b[39m\n",
      "  \u001b[90m[1d5cc7b8] \u001b[39m\u001b[92m+ IntelOpenMP_jll v2024.2.1+0\u001b[39m\n",
      "  \u001b[90m[aacddb02] \u001b[39m\u001b[92m+ JpegTurbo_jll v3.0.4+0\u001b[39m\n",
      "  \u001b[90m[c1c5ebd0] \u001b[39m\u001b[92m+ LAME_jll v3.100.2+0\u001b[39m\n",
      "  \u001b[90m[88015f11] \u001b[39m\u001b[92m+ LERC_jll v4.0.0+0\u001b[39m\n",
      "  \u001b[90m[1d63c593] \u001b[39m\u001b[92m+ LLVMOpenMP_jll v18.1.7+0\u001b[39m\n",
      "  \u001b[90m[dd4b983a] \u001b[39m\u001b[92m+ LZO_jll v2.10.2+1\u001b[39m\n",
      "\u001b[33m⌅\u001b[39m \u001b[90m[e9f186c6] \u001b[39m\u001b[92m+ Libffi_jll v3.2.2+1\u001b[39m\n",
      "  \u001b[90m[d4300ac3] \u001b[39m\u001b[92m+ Libgcrypt_jll v1.11.0+0\u001b[39m\n",
      "  \u001b[90m[7e76a0d4] \u001b[39m\u001b[92m+ Libglvnd_jll v1.7.0+0\u001b[39m\n",
      "  \u001b[90m[7add5ba3] \u001b[39m\u001b[92m+ Libgpg_error_jll v1.50.0+0\u001b[39m\n",
      "  \u001b[90m[94ce4f54] \u001b[39m\u001b[92m+ Libiconv_jll v1.17.0+1\u001b[39m\n",
      "  \u001b[90m[4b2f31a3] \u001b[39m\u001b[92m+ Libmount_jll v2.40.2+0\u001b[39m\n",
      "  \u001b[90m[89763e89] \u001b[39m\u001b[92m+ Libtiff_jll v4.7.0+0\u001b[39m\n",
      "  \u001b[90m[38a345b3] \u001b[39m\u001b[92m+ Libuuid_jll v2.40.2+0\u001b[39m\n",
      "  \u001b[90m[856f044c] \u001b[39m\u001b[92m+ MKL_jll v2024.2.0+0\u001b[39m\n",
      "  \u001b[90m[e7412a2a] \u001b[39m\u001b[92m+ Ogg_jll v1.3.5+1\u001b[39m\n",
      "  \u001b[90m[458c3c95] \u001b[39m\u001b[92m+ OpenSSL_jll v3.0.15+1\u001b[39m\n",
      "  \u001b[90m[efe28fd5] \u001b[39m\u001b[92m+ OpenSpecFun_jll v0.5.5+0\u001b[39m\n",
      "  \u001b[90m[91d4177d] \u001b[39m\u001b[92m+ Opus_jll v1.3.3+0\u001b[39m\n",
      "  \u001b[90m[36c8627f] \u001b[39m\u001b[92m+ Pango_jll v1.54.1+0\u001b[39m\n",
      "\u001b[33m⌅\u001b[39m \u001b[90m[30392449] \u001b[39m\u001b[92m+ Pixman_jll v0.43.4+0\u001b[39m\n",
      "  \u001b[90m[c0090381] \u001b[39m\u001b[92m+ Qt6Base_jll v6.7.1+1\u001b[39m\n",
      "  \u001b[90m[629bc702] \u001b[39m\u001b[92m+ Qt6Declarative_jll v6.7.1+2\u001b[39m\n",
      "  \u001b[90m[ce943373] \u001b[39m\u001b[92m+ Qt6ShaderTools_jll v6.7.1+1\u001b[39m\n",
      "  \u001b[90m[e99dba38] \u001b[39m\u001b[92m+ Qt6Wayland_jll v6.7.1+1\u001b[39m\n",
      "  \u001b[90m[f50d1b31] \u001b[39m\u001b[92m+ Rmath_jll v0.5.1+0\u001b[39m\n",
      "  \u001b[90m[a44049a8] \u001b[39m\u001b[92m+ Vulkan_Loader_jll v1.3.243+0\u001b[39m\n",
      "  \u001b[90m[a2964d1f] \u001b[39m\u001b[92m+ Wayland_jll v1.21.0+1\u001b[39m\n",
      "  \u001b[90m[2381bf8a] \u001b[39m\u001b[92m+ Wayland_protocols_jll v1.31.0+0\u001b[39m\n",
      "  \u001b[90m[02c8fc9c] \u001b[39m\u001b[92m+ XML2_jll v2.13.5+0\u001b[39m\n",
      "  \u001b[90m[aed1982a] \u001b[39m\u001b[92m+ XSLT_jll v1.1.42+0\u001b[39m\n",
      "  \u001b[90m[ffd25f8a] \u001b[39m\u001b[92m+ XZ_jll v5.6.3+0\u001b[39m\n",
      "  \u001b[90m[f67eecfb] \u001b[39m\u001b[92m+ Xorg_libICE_jll v1.1.1+0\u001b[39m\n",
      "  \u001b[90m[c834827a] \u001b[39m\u001b[92m+ Xorg_libSM_jll v1.2.4+0\u001b[39m\n",
      "  \u001b[90m[4f6342f7] \u001b[39m\u001b[92m+ Xorg_libX11_jll v1.8.6+1\u001b[39m\n",
      "  \u001b[90m[0c0b7dd1] \u001b[39m\u001b[92m+ Xorg_libXau_jll v1.0.11+1\u001b[39m\n",
      "  \u001b[90m[935fb764] \u001b[39m\u001b[92m+ Xorg_libXcursor_jll v1.2.0+4\u001b[39m\n",
      "  \u001b[90m[a3789734] \u001b[39m\u001b[92m+ Xorg_libXdmcp_jll v1.1.4+1\u001b[39m\n",
      "  \u001b[90m[1082639a] \u001b[39m\u001b[92m+ Xorg_libXext_jll v1.3.6+1\u001b[39m\n",
      "  \u001b[90m[d091e8ba] \u001b[39m\u001b[92m+ Xorg_libXfixes_jll v5.0.3+4\u001b[39m\n",
      "  \u001b[90m[a51aa0fd] \u001b[39m\u001b[92m+ Xorg_libXi_jll v1.7.10+4\u001b[39m\n",
      "  \u001b[90m[d1454406] \u001b[39m\u001b[92m+ Xorg_libXinerama_jll v1.1.4+4\u001b[39m\n",
      "  \u001b[90m[ec84b674] \u001b[39m\u001b[92m+ Xorg_libXrandr_jll v1.5.2+4\u001b[39m\n",
      "  \u001b[90m[ea2f1a96] \u001b[39m\u001b[92m+ Xorg_libXrender_jll v0.9.11+0\u001b[39m\n",
      "  \u001b[90m[14d82f49] \u001b[39m\u001b[92m+ Xorg_libpthread_stubs_jll v0.1.1+1\u001b[39m\n",
      "  \u001b[90m[c7cfdc94] \u001b[39m\u001b[92m+ Xorg_libxcb_jll v1.17.0+1\u001b[39m\n",
      "  \u001b[90m[cc61e674] \u001b[39m\u001b[92m+ Xorg_libxkbfile_jll v1.1.2+0\u001b[39m\n",
      "  \u001b[90m[e920d4aa] \u001b[39m\u001b[92m+ Xorg_xcb_util_cursor_jll v0.1.4+0\u001b[39m\n",
      "  \u001b[90m[12413925] \u001b[39m\u001b[92m+ Xorg_xcb_util_image_jll v0.4.0+1\u001b[39m\n",
      "  \u001b[90m[2def613f] \u001b[39m\u001b[92m+ Xorg_xcb_util_jll v0.4.0+1\u001b[39m\n",
      "  \u001b[90m[975044d2] \u001b[39m\u001b[92m+ Xorg_xcb_util_keysyms_jll v0.4.0+1\u001b[39m\n",
      "  \u001b[90m[0d47668e] \u001b[39m\u001b[92m+ Xorg_xcb_util_renderutil_jll v0.3.9+1\u001b[39m\n",
      "  \u001b[90m[c22f9ab0] \u001b[39m\u001b[92m+ Xorg_xcb_util_wm_jll v0.4.1+1\u001b[39m\n",
      "  \u001b[90m[35661453] \u001b[39m\u001b[92m+ Xorg_xkbcomp_jll v1.4.6+0\u001b[39m\n",
      "  \u001b[90m[33bec58e] \u001b[39m\u001b[92m+ Xorg_xkeyboard_config_jll v2.39.0+0\u001b[39m\n",
      "  \u001b[90m[c5fb5394] \u001b[39m\u001b[92m+ Xorg_xtrans_jll v1.5.0+1\u001b[39m\n",
      "  \u001b[90m[3161d3a3] \u001b[39m\u001b[92m+ Zstd_jll v1.5.6+1\u001b[39m\n",
      "  \u001b[90m[35ca27e7] \u001b[39m\u001b[92m+ eudev_jll v3.2.9+0\u001b[39m\n",
      "  \u001b[90m[214eeab7] \u001b[39m\u001b[92m+ fzf_jll v0.56.3+0\u001b[39m\n",
      "  \u001b[90m[1a1c6b14] \u001b[39m\u001b[92m+ gperf_jll v3.1.1+1\u001b[39m\n",
      "  \u001b[90m[a4ae2306] \u001b[39m\u001b[92m+ libaom_jll v3.9.0+0\u001b[39m\n",
      "  \u001b[90m[0ac62f75] \u001b[39m\u001b[92m+ libass_jll v0.15.2+0\u001b[39m\n",
      "  \u001b[90m[1183f4f0] \u001b[39m\u001b[92m+ libdecor_jll v0.2.2+0\u001b[39m\n",
      "  \u001b[90m[2db6ffa8] \u001b[39m\u001b[92m+ libevdev_jll v1.11.0+0\u001b[39m\n",
      "  \u001b[90m[f638f0a6] \u001b[39m\u001b[92m+ libfdk_aac_jll v2.0.3+0\u001b[39m\n",
      "  \u001b[90m[36db933b] \u001b[39m\u001b[92m+ libinput_jll v1.18.0+0\u001b[39m\n",
      "  \u001b[90m[b53b4c65] \u001b[39m\u001b[92m+ libpng_jll v1.6.44+0\u001b[39m\n",
      "  \u001b[90m[f27f6e37] \u001b[39m\u001b[92m+ libvorbis_jll v1.3.7+2\u001b[39m\n",
      "  \u001b[90m[009596ad] \u001b[39m\u001b[92m+ mtdev_jll v1.1.6+0\u001b[39m\n",
      "  \u001b[90m[1317d2d5] \u001b[39m\u001b[92m+ oneTBB_jll v2021.12.0+0\u001b[39m\n",
      "  \u001b[90m[1270edf5] \u001b[39m\u001b[92m+ x264_jll v10164.0.0+0\u001b[39m\n",
      "\u001b[33m⌅\u001b[39m \u001b[90m[dfaa095f] \u001b[39m\u001b[92m+ x265_jll v3.6.0+0\u001b[39m\n",
      "  \u001b[90m[d8fb68d0] \u001b[39m\u001b[92m+ xkbcommon_jll v1.4.1+1\u001b[39m\n",
      "  \u001b[90m[0dad84c5] \u001b[39m\u001b[92m+ ArgTools v1.1.1\u001b[39m\n",
      "  \u001b[90m[56f22d72] \u001b[39m\u001b[92m+ Artifacts\u001b[39m\n",
      "  \u001b[90m[2a0f44e3] \u001b[39m\u001b[92m+ Base64\u001b[39m\n",
      "  \u001b[90m[ade2ca70] \u001b[39m\u001b[92m+ Dates\u001b[39m\n",
      "  \u001b[90m[8ba89e20] \u001b[39m\u001b[92m+ Distributed\u001b[39m\n",
      "  \u001b[90m[f43a241f] \u001b[39m\u001b[92m+ Downloads v1.6.0\u001b[39m\n",
      "  \u001b[90m[7b1f6079] \u001b[39m\u001b[92m+ FileWatching\u001b[39m\n",
      "  \u001b[90m[9fa8497b] \u001b[39m\u001b[92m+ Future\u001b[39m\n",
      "  \u001b[90m[b77e0a4c] \u001b[39m\u001b[92m+ InteractiveUtils\u001b[39m\n",
      "  \u001b[90m[4af54fe1] \u001b[39m\u001b[92m+ LazyArtifacts\u001b[39m\n",
      "  \u001b[90m[b27032c2] \u001b[39m\u001b[92m+ LibCURL v0.6.4\u001b[39m\n",
      "  \u001b[90m[76f85450] \u001b[39m\u001b[92m+ LibGit2\u001b[39m\n",
      "  \u001b[90m[8f399da3] \u001b[39m\u001b[92m+ Libdl\u001b[39m\n",
      "  \u001b[90m[37e2e46d] \u001b[39m\u001b[92m+ LinearAlgebra\u001b[39m\n",
      "  \u001b[90m[56ddb016] \u001b[39m\u001b[92m+ Logging\u001b[39m\n",
      "  \u001b[90m[d6f4376e] \u001b[39m\u001b[92m+ Markdown\u001b[39m\n",
      "  \u001b[90m[a63ad114] \u001b[39m\u001b[92m+ Mmap\u001b[39m\n",
      "  \u001b[90m[ca575930] \u001b[39m\u001b[92m+ NetworkOptions v1.2.0\u001b[39m\n",
      "  \u001b[90m[44cfe95a] \u001b[39m\u001b[92m+ Pkg v1.10.0\u001b[39m\n",
      "  \u001b[90m[de0858da] \u001b[39m\u001b[92m+ Printf\u001b[39m\n",
      "  \u001b[90m[9abbd945] \u001b[39m\u001b[92m+ Profile\u001b[39m\n",
      "  \u001b[90m[3fa0cd96] \u001b[39m\u001b[92m+ REPL\u001b[39m\n",
      "  \u001b[90m[9a3f8284] \u001b[39m\u001b[92m+ Random\u001b[39m\n",
      "  \u001b[90m[ea8e919c] \u001b[39m\u001b[92m+ SHA v0.7.0\u001b[39m\n",
      "  \u001b[90m[9e88b42a] \u001b[39m\u001b[92m+ Serialization\u001b[39m\n",
      "  \u001b[90m[1a1011a3] \u001b[39m\u001b[92m+ SharedArrays\u001b[39m\n",
      "  \u001b[90m[6462fe0b] \u001b[39m\u001b[92m+ Sockets\u001b[39m\n",
      "  \u001b[90m[2f01184e] \u001b[39m\u001b[92m+ SparseArrays v1.10.0\u001b[39m\n",
      "  \u001b[90m[10745b16] \u001b[39m\u001b[92m+ Statistics v1.10.0\u001b[39m\n",
      "  \u001b[90m[4607b0f0] \u001b[39m\u001b[92m+ SuiteSparse\u001b[39m\n",
      "  \u001b[90m[fa267f1f] \u001b[39m\u001b[92m+ TOML v1.0.3\u001b[39m\n",
      "  \u001b[90m[a4e569a6] \u001b[39m\u001b[92m+ Tar v1.10.0\u001b[39m\n",
      "  \u001b[90m[8dfed614] \u001b[39m\u001b[92m+ Test\u001b[39m\n",
      "  \u001b[90m[cf7118a7] \u001b[39m\u001b[92m+ UUIDs\u001b[39m\n",
      "  \u001b[90m[4ec0a83e] \u001b[39m\u001b[92m+ Unicode\u001b[39m\n",
      "  \u001b[90m[e66e0078] \u001b[39m\u001b[92m+ CompilerSupportLibraries_jll v1.0.5+1\u001b[39m\n",
      "  \u001b[90m[deac9b47] \u001b[39m\u001b[92m+ LibCURL_jll v8.4.0+0\u001b[39m\n",
      "  \u001b[90m[e37daf67] \u001b[39m\u001b[92m+ LibGit2_jll v1.6.4+0\u001b[39m\n",
      "  \u001b[90m[29816b5a] \u001b[39m\u001b[92m+ LibSSH2_jll v1.11.0+1\u001b[39m\n",
      "  \u001b[90m[c8ffd9c3] \u001b[39m\u001b[92m+ MbedTLS_jll v2.28.2+1\u001b[39m\n",
      "  \u001b[90m[14a3606d] \u001b[39m\u001b[92m+ MozillaCACerts_jll v2023.1.10\u001b[39m\n",
      "  \u001b[90m[4536629a] \u001b[39m\u001b[92m+ OpenBLAS_jll v0.3.23+2\u001b[39m\n",
      "  \u001b[90m[05823500] \u001b[39m\u001b[92m+ OpenLibm_jll v0.8.1+2\u001b[39m\n",
      "  \u001b[90m[efcefdf7] \u001b[39m\u001b[92m+ PCRE2_jll v10.42.0+1\u001b[39m\n",
      "  \u001b[90m[bea87d4a] \u001b[39m\u001b[92m+ SuiteSparse_jll v7.2.1+1\u001b[39m\n",
      "  \u001b[90m[83775a58] \u001b[39m\u001b[92m+ Zlib_jll v1.2.13+1\u001b[39m\n",
      "  \u001b[90m[8e850b90] \u001b[39m\u001b[92m+ libblastrampoline_jll v5.8.0+1\u001b[39m\n",
      "  \u001b[90m[8e850ede] \u001b[39m\u001b[92m+ nghttp2_jll v1.52.0+1\u001b[39m\n",
      "  \u001b[90m[3f19e933] \u001b[39m\u001b[92m+ p7zip_jll v17.4.0+2\u001b[39m\n",
      "\u001b[36m\u001b[1m        Info\u001b[22m\u001b[39m Packages marked with \u001b[32m⌃\u001b[39m and \u001b[33m⌅\u001b[39m have new versions available. Those with \u001b[32m⌃\u001b[39m may be upgradable, but those with \u001b[33m⌅\u001b[39m are restricted by compatibility constraints from upgrading. To see why use `status --outdated -m`\n",
      "\u001b[32m\u001b[1m    Building\u001b[22m\u001b[39m FFMPEG → `~/.julia/scratchspaces/44cfe95a-1eb2-52ea-b672-e2afdf69b78f/9143266ba77d3313a4cf61d8333a1970e8c5d8b6/build.log`\n"
     ]
    },
    {
     "ename": "LoadError",
     "evalue": "LoadError: Error building `FFMPEG`: \n┌ Warning: Platform `arm64-apple-darwin22.4.0` is not an officially supported platform\n└ @ BinaryProvider ~/.julia/packages/BinaryProvider/U2dKK/src/PlatformNames.jl:450\nERROR: LoadError: KeyError: key \"unknown\" not found\nStacktrace:\n  [1] getindex\n    @ Base ./dict.jl:498 [inlined]\n  [2] parse_dl_name_version\n    @ BinaryProvider ~/.julia/packages/BinaryProvider/U2dKK/src/PlatformNames.jl:511 [inlined]\n  [3] detect_libgfortran_abi(libgfortran_name::String, platform::BinaryProvider.UnknownPlatform)\n    @ BinaryProvider ~/.julia/packages/BinaryProvider/U2dKK/src/PlatformNames.jl:555\n  [4] detect_libgfortran_abi\n    @ BinaryProvider ~/.julia/packages/BinaryProvider/U2dKK/src/PlatformNames.jl:584 [inlined]\n  [5] detect_compiler_abi()\n    @ BinaryProvider ~/.julia/packages/BinaryProvider/U2dKK/src/PlatformNames.jl:667\n  [6] top-level scope\n    @ ~/.julia/packages/BinaryProvider/U2dKK/src/PlatformNames.jl:685\n  [7] include(mod::Module, _path::String)\n    @ Base ./Base.jl:495\n  [8] include(x::String)\n    @ BinaryProvider ~/.julia/packages/BinaryProvider/U2dKK/src/BinaryProvider.jl:1\n  [9] top-level scope\n    @ ~/.julia/packages/BinaryProvider/U2dKK/src/BinaryProvider.jl:12\n [10] include\n    @ Base ./Base.jl:495 [inlined]\n [11] include_package_for_output(pkg::Base.PkgId, input::String, depot_path::Vector{String}, dl_load_path::Vector{String}, load_path::Vector{String}, concrete_deps::Vector{Pair{Base.PkgId, UInt128}}, source::String)\n    @ Base ./loading.jl:2216\n [12] top-level scope\n    @ stdin:3\nin expression starting at /Users/samanthaceron/.julia/packages/BinaryProvider/U2dKK/src/PlatformNames.jl:685\nin expression starting at /Users/samanthaceron/.julia/packages/BinaryProvider/U2dKK/src/BinaryProvider.jl:1\nin expression starting at stdin:3\nERROR: LoadError: Failed to precompile BinaryProvider [b99e7846-7c00-51b0-8f62-c81ae34c0232] to \"/Users/samanthaceron/.julia/compiled/v1.10/BinaryProvider/jl_xiOoaf\".\nStacktrace:\n  [1] error(s::String)\n    @ Base ./error.jl:35\n  [2] compilecache(pkg::Base.PkgId, path::String, internal_stderr::IO, internal_stdout::IO, keep_loaded_modules::Bool)\n    @ Base ./loading.jl:2462\n  [3] compilecache\n    @ Base ./loading.jl:2334 [inlined]\n  [4] (::Base.var\"#968#969\"{Base.PkgId})()\n    @ Base ./loading.jl:1968\n  [5] mkpidlock(f::Base.var\"#968#969\"{Base.PkgId}, at::String, pid::Int32; kwopts::@Kwargs{stale_age::Int64, wait::Bool})\n    @ FileWatching.Pidfile /Applications/Julia-1.10.app/Contents/Resources/julia/share/julia/stdlib/v1.10/FileWatching/src/pidfile.jl:93\n  [6] #mkpidlock#6\n    @ FileWatching.Pidfile /Applications/Julia-1.10.app/Contents/Resources/julia/share/julia/stdlib/v1.10/FileWatching/src/pidfile.jl:88 [inlined]\n  [7] trymkpidlock(::Function, ::Vararg{Any}; kwargs::@Kwargs{stale_age::Int64})\n    @ FileWatching.Pidfile /Applications/Julia-1.10.app/Contents/Resources/julia/share/julia/stdlib/v1.10/FileWatching/src/pidfile.jl:111\n  [8] #invokelatest#2\n    @ Base ./essentials.jl:889 [inlined]\n  [9] invokelatest\n    @ Base ./essentials.jl:884 [inlined]\n [10] maybe_cachefile_lock(f::Base.var\"#968#969\"{Base.PkgId}, pkg::Base.PkgId, srcpath::String; stale_age::Int64)\n    @ Base ./loading.jl:2977\n [11] maybe_cachefile_lock\n    @ Base ./loading.jl:2974 [inlined]\n [12] _require(pkg::Base.PkgId, env::String)\n    @ Base ./loading.jl:1964\n [13] __require_prelocked(uuidkey::Base.PkgId, env::String)\n    @ Base ./loading.jl:1806\n [14] #invoke_in_world#3\n    @ Base ./essentials.jl:921 [inlined]\n [15] invoke_in_world\n    @ Base ./essentials.jl:918 [inlined]\n [16] _require_prelocked(uuidkey::Base.PkgId, env::String)\n    @ Base ./loading.jl:1797\n [17] macro expansion\n    @ Base ./loading.jl:1784 [inlined]\n [18] macro expansion\n    @ Base ./lock.jl:267 [inlined]\n [19] __require(into::Module, mod::Symbol)\n    @ Base ./loading.jl:1747\n [20] #invoke_in_world#3\n    @ Base ./essentials.jl:921 [inlined]\n [21] invoke_in_world\n    @ Base ./essentials.jl:918 [inlined]\n [22] require(into::Module, mod::Symbol)\n    @ Base ./loading.jl:1740\n [23] include(fname::String)\n    @ Base.MainInclude ./client.jl:489\n [24] top-level scope\n    @ none:5\nin expression starting at /Users/samanthaceron/.julia/packages/FFMPEG/guN1x/deps/build.jl:1\nin expression starting at /Users/samanthaceron/Desktop/ChemE 5660/PS6/Include.jl:8",
     "output_type": "error",
     "traceback": [
      "LoadError: Error building `FFMPEG`: \n",
      "┌ Warning: Platform `arm64-apple-darwin22.4.0` is not an officially supported platform\n",
      "└ @ BinaryProvider ~/.julia/packages/BinaryProvider/U2dKK/src/PlatformNames.jl:450\n",
      "ERROR: LoadError: KeyError: key \"unknown\" not found\n",
      "Stacktrace:\n",
      "  [1] getindex\n",
      "    @ Base ./dict.jl:498 [inlined]\n",
      "  [2] parse_dl_name_version\n",
      "    @ BinaryProvider ~/.julia/packages/BinaryProvider/U2dKK/src/PlatformNames.jl:511 [inlined]\n",
      "  [3] detect_libgfortran_abi(libgfortran_name::String, platform::BinaryProvider.UnknownPlatform)\n",
      "    @ BinaryProvider ~/.julia/packages/BinaryProvider/U2dKK/src/PlatformNames.jl:555\n",
      "  [4] detect_libgfortran_abi\n",
      "    @ BinaryProvider ~/.julia/packages/BinaryProvider/U2dKK/src/PlatformNames.jl:584 [inlined]\n",
      "  [5] detect_compiler_abi()\n",
      "    @ BinaryProvider ~/.julia/packages/BinaryProvider/U2dKK/src/PlatformNames.jl:667\n",
      "  [6] top-level scope\n",
      "    @ ~/.julia/packages/BinaryProvider/U2dKK/src/PlatformNames.jl:685\n",
      "  [7] include(mod::Module, _path::String)\n",
      "    @ Base ./Base.jl:495\n",
      "  [8] include(x::String)\n",
      "    @ BinaryProvider ~/.julia/packages/BinaryProvider/U2dKK/src/BinaryProvider.jl:1\n",
      "  [9] top-level scope\n",
      "    @ ~/.julia/packages/BinaryProvider/U2dKK/src/BinaryProvider.jl:12\n",
      " [10] include\n",
      "    @ Base ./Base.jl:495 [inlined]\n",
      " [11] include_package_for_output(pkg::Base.PkgId, input::String, depot_path::Vector{String}, dl_load_path::Vector{String}, load_path::Vector{String}, concrete_deps::Vector{Pair{Base.PkgId, UInt128}}, source::String)\n",
      "    @ Base ./loading.jl:2216\n",
      " [12] top-level scope\n",
      "    @ stdin:3\n",
      "in expression starting at /Users/samanthaceron/.julia/packages/BinaryProvider/U2dKK/src/PlatformNames.jl:685\n",
      "in expression starting at /Users/samanthaceron/.julia/packages/BinaryProvider/U2dKK/src/BinaryProvider.jl:1\n",
      "in expression starting at stdin:3\n",
      "ERROR: LoadError: Failed to precompile BinaryProvider [b99e7846-7c00-51b0-8f62-c81ae34c0232] to \"/Users/samanthaceron/.julia/compiled/v1.10/BinaryProvider/jl_xiOoaf\".\n",
      "Stacktrace:\n",
      "  [1] error(s::String)\n",
      "    @ Base ./error.jl:35\n",
      "  [2] compilecache(pkg::Base.PkgId, path::String, internal_stderr::IO, internal_stdout::IO, keep_loaded_modules::Bool)\n",
      "    @ Base ./loading.jl:2462\n",
      "  [3] compilecache\n",
      "    @ Base ./loading.jl:2334 [inlined]\n",
      "  [4] (::Base.var\"#968#969\"{Base.PkgId})()\n",
      "    @ Base ./loading.jl:1968\n",
      "  [5] mkpidlock(f::Base.var\"#968#969\"{Base.PkgId}, at::String, pid::Int32; kwopts::@Kwargs{stale_age::Int64, wait::Bool})\n",
      "    @ FileWatching.Pidfile /Applications/Julia-1.10.app/Contents/Resources/julia/share/julia/stdlib/v1.10/FileWatching/src/pidfile.jl:93\n",
      "  [6] #mkpidlock#6\n",
      "    @ FileWatching.Pidfile /Applications/Julia-1.10.app/Contents/Resources/julia/share/julia/stdlib/v1.10/FileWatching/src/pidfile.jl:88 [inlined]\n",
      "  [7] trymkpidlock(::Function, ::Vararg{Any}; kwargs::@Kwargs{stale_age::Int64})\n",
      "    @ FileWatching.Pidfile /Applications/Julia-1.10.app/Contents/Resources/julia/share/julia/stdlib/v1.10/FileWatching/src/pidfile.jl:111\n",
      "  [8] #invokelatest#2\n",
      "    @ Base ./essentials.jl:889 [inlined]\n",
      "  [9] invokelatest\n",
      "    @ Base ./essentials.jl:884 [inlined]\n",
      " [10] maybe_cachefile_lock(f::Base.var\"#968#969\"{Base.PkgId}, pkg::Base.PkgId, srcpath::String; stale_age::Int64)\n",
      "    @ Base ./loading.jl:2977\n",
      " [11] maybe_cachefile_lock\n",
      "    @ Base ./loading.jl:2974 [inlined]\n",
      " [12] _require(pkg::Base.PkgId, env::String)\n",
      "    @ Base ./loading.jl:1964\n",
      " [13] __require_prelocked(uuidkey::Base.PkgId, env::String)\n",
      "    @ Base ./loading.jl:1806\n",
      " [14] #invoke_in_world#3\n",
      "    @ Base ./essentials.jl:921 [inlined]\n",
      " [15] invoke_in_world\n",
      "    @ Base ./essentials.jl:918 [inlined]\n",
      " [16] _require_prelocked(uuidkey::Base.PkgId, env::String)\n",
      "    @ Base ./loading.jl:1797\n",
      " [17] macro expansion\n",
      "    @ Base ./loading.jl:1784 [inlined]\n",
      " [18] macro expansion\n",
      "    @ Base ./lock.jl:267 [inlined]\n",
      " [19] __require(into::Module, mod::Symbol)\n",
      "    @ Base ./loading.jl:1747\n",
      " [20] #invoke_in_world#3\n",
      "    @ Base ./essentials.jl:921 [inlined]\n",
      " [21] invoke_in_world\n",
      "    @ Base ./essentials.jl:918 [inlined]\n",
      " [22] require(into::Module, mod::Symbol)\n",
      "    @ Base ./loading.jl:1740\n",
      " [23] include(fname::String)\n",
      "    @ Base.MainInclude ./client.jl:489\n",
      " [24] top-level scope\n",
      "    @ none:5\n",
      "in expression starting at /Users/samanthaceron/.julia/packages/FFMPEG/guN1x/deps/build.jl:1\n",
      "in expression starting at /Users/samanthaceron/Desktop/ChemE 5660/PS6/Include.jl:8\n",
      "\n",
      "Stacktrace:\n",
      "  [1] pkgerror(msg::String)\n",
      "    @ Pkg.Types /Applications/Julia-1.10.app/Contents/Resources/julia/share/julia/stdlib/v1.10/Pkg/src/Types.jl:70\n",
      "  [2] (::Pkg.Operations.var\"#67#74\"{Bool, Pkg.Types.Context, String, Pkg.Types.PackageSpec, String})()\n",
      "    @ Pkg.Operations /Applications/Julia-1.10.app/Contents/Resources/julia/share/julia/stdlib/v1.10/Pkg/src/Operations.jl:1156\n",
      "  [3] withenv(::Pkg.Operations.var\"#67#74\"{Bool, Pkg.Types.Context, String, Pkg.Types.PackageSpec, String}, ::Pair{String, String}, ::Vararg{Pair{String}})\n",
      "    @ Base ./env.jl:256\n",
      "  [4] (::Pkg.Operations.var\"#117#122\"{String, Bool, Bool, Bool, Pkg.Operations.var\"#67#74\"{Bool, Pkg.Types.Context, String, Pkg.Types.PackageSpec, String}, Pkg.Types.PackageSpec})()\n",
      "    @ Pkg.Operations /Applications/Julia-1.10.app/Contents/Resources/julia/share/julia/stdlib/v1.10/Pkg/src/Operations.jl:1824\n",
      "  [5] with_temp_env(fn::Pkg.Operations.var\"#117#122\"{String, Bool, Bool, Bool, Pkg.Operations.var\"#67#74\"{Bool, Pkg.Types.Context, String, Pkg.Types.PackageSpec, String}, Pkg.Types.PackageSpec}, temp_env::String)\n",
      "    @ Pkg.Operations /Applications/Julia-1.10.app/Contents/Resources/julia/share/julia/stdlib/v1.10/Pkg/src/Operations.jl:1705\n",
      "  [6] (::Pkg.Operations.var\"#115#120\"{Dict{String, Any}, Bool, Bool, Bool, Pkg.Operations.var\"#67#74\"{Bool, Pkg.Types.Context, String, Pkg.Types.PackageSpec, String}, Pkg.Types.Context, Pkg.Types.PackageSpec, String, Pkg.Types.Project, String})(tmp::String)\n",
      "    @ Pkg.Operations /Applications/Julia-1.10.app/Contents/Resources/julia/share/julia/stdlib/v1.10/Pkg/src/Operations.jl:1794\n",
      "  [7] mktempdir(fn::Pkg.Operations.var\"#115#120\"{Dict{String, Any}, Bool, Bool, Bool, Pkg.Operations.var\"#67#74\"{Bool, Pkg.Types.Context, String, Pkg.Types.PackageSpec, String}, Pkg.Types.Context, Pkg.Types.PackageSpec, String, Pkg.Types.Project, String}, parent::String; prefix::String)\n",
      "    @ Base.Filesystem ./file.jl:766\n",
      "  [8] mktempdir(fn::Function, parent::String)\n",
      "    @ Base.Filesystem ./file.jl:762\n",
      "  [9] mktempdir(fn::Function)\n",
      "    @ Base.Filesystem ./file.jl:762 [inlined]\n",
      " [10] sandbox(fn::Function, ctx::Pkg.Types.Context, target::Pkg.Types.PackageSpec, target_path::String, sandbox_path::String, sandbox_project_override::Pkg.Types.Project; preferences::Dict{String, Any}, force_latest_compatible_version::Bool, allow_earlier_backwards_compatible_versions::Bool, allow_reresolve::Bool)\n",
      "    @ Pkg.Operations /Applications/Julia-1.10.app/Contents/Resources/julia/share/julia/stdlib/v1.10/Pkg/src/Operations.jl:1752\n",
      " [11] build_versions(ctx::Pkg.Types.Context, uuids::Set{Base.UUID}; verbose::Bool)\n",
      "    @ Pkg.Operations /Applications/Julia-1.10.app/Contents/Resources/julia/share/julia/stdlib/v1.10/Pkg/src/Operations.jl:1137\n",
      " [12] build_versions\n",
      "    @ /Applications/Julia-1.10.app/Contents/Resources/julia/share/julia/stdlib/v1.10/Pkg/src/Operations.jl:1055 [inlined]\n",
      " [13] add(ctx::Pkg.Types.Context, pkgs::Vector{Pkg.Types.PackageSpec}, new_git::Set{Base.UUID}; preserve::Pkg.Types.PreserveLevel, platform::Base.BinaryPlatforms.Platform)\n",
      "    @ Pkg.Operations /Applications/Julia-1.10.app/Contents/Resources/julia/share/julia/stdlib/v1.10/Pkg/src/Operations.jl:1398\n",
      " [14] add\n",
      "    @ /Applications/Julia-1.10.app/Contents/Resources/julia/share/julia/stdlib/v1.10/Pkg/src/Operations.jl:1376 [inlined]\n",
      " [15] add(ctx::Pkg.Types.Context, pkgs::Vector{Pkg.Types.PackageSpec}; preserve::Pkg.Types.PreserveLevel, platform::Base.BinaryPlatforms.Platform, kwargs::@Kwargs{io::VSCodeServer.IJuliaCore.IJuliaStdio{Base.PipeEndpoint, typeof(VSCodeServer.io_send_callback)}})\n",
      "    @ Pkg.API /Applications/Julia-1.10.app/Contents/Resources/julia/share/julia/stdlib/v1.10/Pkg/src/API.jl:278\n",
      " [16] add(pkgs::Vector{Pkg.Types.PackageSpec}; io::VSCodeServer.IJuliaCore.IJuliaStdio{Base.PipeEndpoint, typeof(VSCodeServer.io_send_callback)}, kwargs::@Kwargs{})\n",
      "    @ Pkg.API /Applications/Julia-1.10.app/Contents/Resources/julia/share/julia/stdlib/v1.10/Pkg/src/API.jl:159\n",
      " [17] add(pkgs::Vector{Pkg.Types.PackageSpec})\n",
      "    @ Pkg.API /Applications/Julia-1.10.app/Contents/Resources/julia/share/julia/stdlib/v1.10/Pkg/src/API.jl:148\n",
      " [18] add(; name::Nothing, uuid::Nothing, version::Nothing, url::Nothing, rev::Nothing, path::String, mode::Pkg.Types.PackageMode, subdir::Nothing, kwargs::@Kwargs{})\n",
      "    @ Pkg.API ./boot.jl:0\n",
      " [19] top-level scope\n",
      "    @ ~/Desktop/ChemE 5660/PS6/Include.jl:8"
     ]
    }
   ],
   "source": [
    "include(\"Include.jl\");"
   ]
  },
  {
   "cell_type": "markdown",
   "id": "e140eef9-e19f-4f91-9240-34b51817f155",
   "metadata": {},
   "source": [
    "## Prerequisites: Load ticker-picker save file and out-of-sample market data\n",
    "Let's begin by loading the [HDF5 encoded risk-blind saved file](https://en.wikipedia.org/wiki/Hierarchical_Data_Format) generated in the alternative investment advanced example using [a `load(...)`  method exported by the JLD2.jl package](https://github.com/JuliaIO/JLD2.jl). First, we specify the path to the saved file in the `path_to_save_file::String` variable:"
   ]
  },
  {
   "cell_type": "code",
   "execution_count": 2,
   "id": "4cbc7bcc-3e7b-41af-9a71-c43493e9e64c",
   "metadata": {},
   "outputs": [],
   "source": [
    "path_to_save_file = joinpath(_PATH_TO_DATA, \"TickerPickerAgent-Simulation-State-ALT-RA-SPY-N-10000.jld2\");"
   ]
  },
  {
   "cell_type": "markdown",
   "id": "259110ff-ee1a-4f34-8b06-f816762bbcea",
   "metadata": {},
   "source": [
    "then [call the `load(...)` method exported by the JLD2.jl package](https://github.com/JuliaIO/JLD2.jl), which reads the binary saved file and returns the saved data as a dictionary; we assign the data to the `saved_state_dict::Dict{String, Any}` variable:"
   ]
  },
  {
   "cell_type": "code",
   "execution_count": 3,
   "id": "9af3aff7-de58-414c-aadb-b99ae85b2b5a",
   "metadata": {},
   "outputs": [
    {
     "ename": "UndefVarError",
     "evalue": "UndefVarError: `load` not defined",
     "output_type": "error",
     "traceback": [
      "UndefVarError: `load` not defined\n",
      "\n",
      "Stacktrace:\n",
      " [1] top-level scope\n",
      "   @ ~/Desktop/ChemE 5660/PS6/jl_notebook_cell_df34fa98e69747e1a8f8a730347b8e2f_W6sZmlsZQ==.jl:1"
     ]
    }
   ],
   "source": [
    "saved_state_dict = load(path_to_save_file);"
   ]
  },
  {
   "cell_type": "markdown",
   "id": "1ee860f8-480d-448b-b736-6716e9d8eea5",
   "metadata": {},
   "source": [
    "### Set constant values\n",
    "In the code block below, we set various constant values (and compute some derived constants) that we use in the tasks below. We generally access these values from the `saved_state_dict::Dict{String, Any}` by passing a `key::String` value to the saved data dictionary. Please see the comment beside the code line for more details about the value and what we'll use it for."
   ]
  },
  {
   "cell_type": "code",
   "execution_count": 4,
   "id": "bbcd6cee-21e2-4df3-a168-e6468800c6c1",
   "metadata": {},
   "outputs": [
    {
     "ename": "UndefVarError",
     "evalue": "UndefVarError: `saved_state_dict` not defined",
     "output_type": "error",
     "traceback": [
      "UndefVarError: `saved_state_dict` not defined\n",
      "\n",
      "Stacktrace:\n",
      " [1] top-level scope\n",
      "   @ ~/Desktop/ChemE 5660/PS6/jl_notebook_cell_df34fa98e69747e1a8f8a730347b8e2f_X11sZmlsZQ==.jl:1"
     ]
    }
   ],
   "source": [
    "insampledataset = saved_state_dict[\"insampledata\"]; # OHLC data 460 or so firms/ETFs\n",
    "my_tickers = saved_state_dict[\"tickers\"] |> sort; # *sorted* list of tickers we specified in the worked example\n",
    "preferences_risk_blind = saved_state_dict[\"preferences_risk_blind\"]; # prefs in the risk-blind case\n",
    "preferences_risk_aware = saved_state_dict[\"preferences_risk_aware\"]; # prefs in the risk-blind case\n",
    "Δt = (1.0/252); # assume 252-days per trading year\n",
    "K = length(my_tickers); # how tickers (arms) do we have? \n",
    "number_of_agents = 10000; # how many agents do we want\n",
    "total_budget_to_allocation = 100.0; # Assume we have 100 USD to allocate"
   ]
  },
  {
   "cell_type": "markdown",
   "id": "0e2a36fa-e4e2-4fbf-9e1c-2bc475148569",
   "metadata": {},
   "source": [
    "### Out-of-sample price data\n",
    "Next, we'll load out-of-sample daily price data to test the ticker-picker preferences.\n",
    "We gathered daily open-high-low-close data for each firm in the [S&P500](https://en.wikipedia.org/wiki/S%26P_500) from `01-03-2024` until `10-25-2024`, along with data for a few exchange-traded funds and volatility products during that time. We'll use this data in the subsequent tasks below, but we must load and clean it up first. \n",
    "* First, we'll load the data and remove tickers that do not have the maximum number of trading days. We'll store the cleaned data in the `dataset::Dict{String, DataFrame}` variable.\n",
    "* Next, we'll get a list of all the tickers in the `dataset,` sort them alphabetically, and store them in the `all_tickers_array` variable."
   ]
  },
  {
   "cell_type": "code",
   "execution_count": 5,
   "id": "388a0235-d59f-460f-84a5-c22c81353d21",
   "metadata": {},
   "outputs": [
    {
     "ename": "UndefVarError",
     "evalue": "UndefVarError: `MyOutOfSampleMarketDataSet` not defined",
     "output_type": "error",
     "traceback": [
      "UndefVarError: `MyOutOfSampleMarketDataSet` not defined\n",
      "\n",
      "Stacktrace:\n",
      " [1] top-level scope\n",
      "   @ ~/Desktop/ChemE 5660/PS6/jl_notebook_cell_df34fa98e69747e1a8f8a730347b8e2f_X13sZmlsZQ==.jl:1"
     ]
    }
   ],
   "source": [
    "original_dataset = MyOutOfSampleMarketDataSet() |> x-> x[\"dataset\"];"
   ]
  },
  {
   "cell_type": "markdown",
   "id": "a9970c69-7dbe-4fa2-899e-cb7b25c386ba",
   "metadata": {},
   "source": [
    "#### Clean the data\n",
    "Not all tickers in our dataset have the maximum number of trading days for various reasons, e.g., acquisition or de-listing events. Let's collect only those tickers with the maximum number of trading days.\n",
    "\n",
    "* First, let's compute the number of records for a company that we know has a maximum value, e.g., `AAPL,` and save that value in the `maximum_number_trading_days` variable:"
   ]
  },
  {
   "cell_type": "code",
   "execution_count": 6,
   "id": "bada5756-535e-4ce4-89da-14a3145eeac7",
   "metadata": {},
   "outputs": [
    {
     "ename": "UndefVarError",
     "evalue": "UndefVarError: `original_dataset` not defined",
     "output_type": "error",
     "traceback": [
      "UndefVarError: `original_dataset` not defined\n",
      "\n",
      "Stacktrace:\n",
      " [1] top-level scope\n",
      "   @ ~/Desktop/ChemE 5660/PS6/jl_notebook_cell_df34fa98e69747e1a8f8a730347b8e2f_X15sZmlsZQ==.jl:1"
     ]
    }
   ],
   "source": [
    "maximum_number_trading_days = original_dataset[\"AAPL\"] |> nrow;"
   ]
  },
  {
   "cell_type": "markdown",
   "id": "ec8a6302-947f-424a-b127-ed1981e4ef67",
   "metadata": {},
   "source": [
    "* Second, let's iterate through our data and collect only those tickers with `maximum_number_trading_days::Int64` records. Save that data in the `outofsampledataset::Dict{String,DataFrame}` variable:"
   ]
  },
  {
   "cell_type": "code",
   "execution_count": 7,
   "id": "311c3c19-7ce1-4bd9-a9c8-28daaee9e064",
   "metadata": {},
   "outputs": [
    {
     "ename": "UndefVarError",
     "evalue": "UndefVarError: `DataFrame` not defined",
     "output_type": "error",
     "traceback": [
      "UndefVarError: `DataFrame` not defined\n",
      "\n",
      "Stacktrace:\n",
      " [1] top-level scope\n",
      "   @ ~/Desktop/ChemE 5660/PS6/jl_notebook_cell_df34fa98e69747e1a8f8a730347b8e2f_X20sZmlsZQ==.jl:1"
     ]
    }
   ],
   "source": [
    "outofsampledataset = Dict{String,DataFrame}();\n",
    "for (ticker,data) ∈ original_dataset\n",
    "    if (nrow(data) == maximum_number_trading_days)\n",
    "        outofsampledataset[ticker] = data;\n",
    "    end\n",
    "end\n",
    "outofsampledataset;"
   ]
  },
  {
   "cell_type": "markdown",
   "id": "9c9cf8cf-1630-493a-9ca1-49744e31dafc",
   "metadata": {},
   "source": [
    "We compare the ticker-picker portfolio performance against `SPY,` so let's get the index of `SPY` and store this value in the `index_SPY::Int64` variable:"
   ]
  },
  {
   "cell_type": "code",
   "execution_count": 8,
   "id": "9ca35ee2-17ca-4218-9400-c295ad84dffb",
   "metadata": {},
   "outputs": [
    {
     "ename": "UndefVarError",
     "evalue": "UndefVarError: `outofsampledataset` not defined",
     "output_type": "error",
     "traceback": [
      "UndefVarError: `outofsampledataset` not defined\n",
      "\n",
      "Stacktrace:\n",
      " [1] top-level scope\n",
      "   @ ~/Desktop/ChemE 5660/PS6/jl_notebook_cell_df34fa98e69747e1a8f8a730347b8e2f_X22sZmlsZQ==.jl:1"
     ]
    }
   ],
   "source": [
    "list_of_all_tickers = keys(outofsampledataset) |> collect |> sort;\n",
    "index_SPY = findfirst(x-> x== \"SPY\", list_of_all_tickers);\n",
    "price_series_SPY = outofsampledataset[\"SPY\"];"
   ]
  },
  {
   "cell_type": "markdown",
   "id": "70ecf149-8752-412e-9ac1-f62e9a967f76",
   "metadata": {},
   "source": [
    "## Task 1: Generate a random ticker-picker portfolio\n",
    "In this task, you will sample the agents and have them vote on what to include in your portfolio based on their analysis of the past data. The first thing we need to do is to select which preference dataset we want to sample, either the risk-blind or the risk-adjusted dataset. Let's specify this in the `preference_dataset` variable:"
   ]
  },
  {
   "cell_type": "code",
   "execution_count": 9,
   "id": "b3be6380-85b4-48fb-8f75-a9a0cba2cf64",
   "metadata": {},
   "outputs": [
    {
     "ename": "UndefVarError",
     "evalue": "UndefVarError: `preferences_risk_aware` not defined",
     "output_type": "error",
     "traceback": [
      "UndefVarError: `preferences_risk_aware` not defined\n",
      "\n",
      "Stacktrace:\n",
      " [1] top-level scope\n",
      "   @ ~/Desktop/ChemE 5660/PS6/jl_notebook_cell_df34fa98e69747e1a8f8a730347b8e2f_X24sZmlsZQ==.jl:7"
     ]
    }
   ],
   "source": [
    "preference_dataset, risktag = let\n",
    "    \n",
    "    preference_dataset = nothing;\n",
    "    risktag = \"risk_aware\"; # Choose {risk_aware | risk_blind} #I chose risk_aware first\n",
    "    \n",
    "    if (risktag == \"risk_aware\")\n",
    "        preference_dataset = preferences_risk_aware\n",
    "    else\n",
    "        preference_dataset = preferences_risk_blind\n",
    "    end\n",
    "\n",
    "    preference_dataset, risktag\n",
    "end;"
   ]
  },
  {
   "cell_type": "code",
   "execution_count": 10,
   "id": "540a614f-59f6-44d4-bbaa-12c16b86cd79",
   "metadata": {},
   "outputs": [
    {
     "ename": "UndefVarError",
     "evalue": "UndefVarError: `risktag` not defined",
     "output_type": "error",
     "traceback": [
      "UndefVarError: `risktag` not defined\n",
      "\n",
      "Stacktrace:\n",
      " [1] top-level scope\n",
      "   @ ~/Desktop/ChemE 5660/PS6/jl_notebook_cell_df34fa98e69747e1a8f8a730347b8e2f_X25sZmlsZQ==.jl:1"
     ]
    }
   ],
   "source": [
    "println(\"We have chosen: $(risktag)\")"
   ]
  },
  {
   "cell_type": "markdown",
   "id": "daa1c198-a83f-4064-9661-23f9c7a4f5a8",
   "metadata": {},
   "source": [
    "Next, now that we have selected our preference dataset, i.e., our understanding of the past world, we sample that dataset using [a nested `for-loop`](https://docs.julialang.org/en/v1/base/base/#for) where we iterate over _all K_ tickers in the outer-loop and _all agents_ in the inner loop. Once we select a ticker (index `i`) and an agent (index `j`), we:\n",
    "* We access the agent's belief about a ticker encoded as a [`Beta` distribution](https://juliastats.org/Distributions.jl/stable/univariate/#Distributions.Beta). From that, we extract the ($\\alpha$,$\\beta$) parameters, i.e., the number of times a ticker beat the alternative investment versus the number of times the agent lost versus the alternative investment, respectively.\n",
    "* We then compute the agent's vote for the ticker by first computing the expected value for the ticker to beat the alternative investment. We then use this value to construct [a `Bernoulli` distribution](https://juliastats.org/Distributions.jl/latest/univariate/#Distributions.Bernoulli) and sample that distribution. It returns a value of `1` if the agent wants to include the ticker or `0` otherwise.\n",
    "* Finally, we store the agent's vote (column) for the ticker (row) in the `votes::Array{Int64,2}` array. Each row corresponds to a ticker, while each column is the vote of an agent to include `1` or exclude `0` from the ticker."
   ]
  },
  {
   "cell_type": "code",
   "execution_count": 11,
   "id": "11299162-544d-4ce3-bc08-041b6c81b4d3",
   "metadata": {},
   "outputs": [
    {
     "ename": "UndefVarError",
     "evalue": "UndefVarError: `K` not defined",
     "output_type": "error",
     "traceback": [
      "UndefVarError: `K` not defined\n",
      "\n",
      "Stacktrace:\n",
      " [1] top-level scope\n",
      "   @ ~/Desktop/ChemE 5660/PS6/jl_notebook_cell_df34fa98e69747e1a8f8a730347b8e2f_X30sZmlsZQ==.jl:2"
     ]
    }
   ],
   "source": [
    "votes = let\n",
    "    votes = Array{Int64,2}(undef, K, number_of_agents);\n",
    "    for i = 1:K\n",
    "        for j = 1:number_of_agents\n",
    "            α, β = preference_dataset[i,j] |> d -> params(d);\n",
    "            votes[i,j] = α/(α + β) |> θ -> Bernoulli(θ) |> d -> rand(d) |> vote -> trunc(Int64,vote);\n",
    "        end\n",
    "    end\n",
    "    votes\n",
    "end"
   ]
  },
  {
   "cell_type": "markdown",
   "id": "63d9566a-8b0b-4213-b504-110a9586ce91",
   "metadata": {},
   "source": [
    "Now that all the agents have voted, let's count the votes and see which tickers will be included in our portfolio. To get a better idea of the agent voting, let's build a table [using the `pretty_table(...)` function exported by the PrettyTables.jl package](https://github.com/ronisbr/PrettyTables.jl), which displays the ticker and the percentage vote tally.\n",
    "\n",
    "#### Summary\n",
    "`Unide` the code block below to see how we computed the ticker score and displayed it in a [table using the PrettyTables.jl package](https://github.com/ronisbr/PrettyTables.jl).\n",
    "* The list of scores shows the fraction of the `number_of_agents::Int64` that voted to include a particular ticker symbol in the portfolio. Different scores are observed depending on whether you use the risk-aware or risk-blind preference data."
   ]
  },
  {
   "cell_type": "code",
   "execution_count": 12,
   "id": "333db1d7-771b-4504-8d07-e4d4dad01a1b",
   "metadata": {
    "jupyter": {
     "source_hidden": true
    }
   },
   "outputs": [
    {
     "ename": "UndefVarError",
     "evalue": "UndefVarError: `DataFrame` not defined",
     "output_type": "error",
     "traceback": [
      "UndefVarError: `DataFrame` not defined\n",
      "\n",
      "Stacktrace:\n",
      " [1] top-level scope\n",
      "   @ ~/Desktop/ChemE 5660/PS6/jl_notebook_cell_df34fa98e69747e1a8f8a730347b8e2f_X32sZmlsZQ==.jl:2"
     ]
    }
   ],
   "source": [
    "let\n",
    "    df = DataFrame()\n",
    "    for i = 1:K\n",
    "        score = sum(votes[i,:]) |> raw_score -> raw_score/number_of_agents;\n",
    "        row_data = (\n",
    "            ticker = my_tickers[i],\n",
    "            score = score\n",
    "        );\n",
    "        push!(df, row_data);\n",
    "    end\n",
    "    pretty_table(df)\n",
    "end"
   ]
  },
  {
   "cell_type": "code",
   "execution_count": 13,
   "id": "ca57679f-3dd7-43b2-8a67-17a352af35fd",
   "metadata": {},
   "outputs": [],
   "source": [
    "do_I_see_the_overall_score_table = true; # {true | false}"
   ]
  },
  {
   "cell_type": "markdown",
   "id": "c6f3ca5a-958c-4728-8517-a8e9eed35f6c",
   "metadata": {},
   "source": [
    "### Select your portfolio tickers\n",
    "Given the scores above, we need a decision rule to pick which ticker to include in the portfolio $\\mathcal{P}$. For example, is a simple majority required to accept a ticker? Let's specify a value the `cutoff::Float64` variable.\n",
    "* __How do I pick this__? The cutoff controls how deep into the rankings we are willing to go. A large value of the cutoff variable will select only those tickers that many agents have ranked in their top-M lists. On the other hand, smaller values of the cutoff variable will select tickers that only a subset of agents selected."
   ]
  },
  {
   "cell_type": "code",
   "execution_count": 14,
   "id": "d3be1ba2-0150-440a-8001-3c53d70def57",
   "metadata": {},
   "outputs": [],
   "source": [
    "cutoff = 0.50; # Assume a score of x%, e.g., 50% or 0.50 is required to be in your portfolio (adjust to what you want). Must be (0,1] "
   ]
  },
  {
   "cell_type": "markdown",
   "id": "6c939d18-84fb-448a-b30f-05bfb6f6f232",
   "metadata": {},
   "source": [
    "We accept the ticker if the score (percentage of the vote) exceeds the `cutoff::Float64` value specified above. If not, we reject the ticker. Let's populate the `portfolio_tickers::Array{Int64,1}` array with values of `1` and `0` indicating whether to include or reject a ticker, respectively, by iterating over the tickers using [a `for-loop`](https://docs.julialang.org/en/v1/base/base/#for)\n",
    "* First, we compute a `score::Float64` value, the fraction of agents that voted to include the ticker in the portfolio. We then apply the decision rule and set a value for the `keep_flag::Int64` variable. Finally, we store that value in the `portfolio_tickers::Array{Int64,1}` array."
   ]
  },
  {
   "cell_type": "code",
   "execution_count": 15,
   "id": "30867ea8-d49e-4416-b0b6-1ae89f156366",
   "metadata": {},
   "outputs": [
    {
     "ename": "UndefVarError",
     "evalue": "UndefVarError: `K` not defined",
     "output_type": "error",
     "traceback": [
      "UndefVarError: `K` not defined\n",
      "\n",
      "Stacktrace:\n",
      " [1] top-level scope\n",
      "   @ ~/Desktop/ChemE 5660/PS6/jl_notebook_cell_df34fa98e69747e1a8f8a730347b8e2f_X40sZmlsZQ==.jl:1"
     ]
    }
   ],
   "source": [
    "portfolio_tickers = Array{Int64,1}(undef, K);\n",
    "for i = 1:K\n",
    "    score = sum(votes[i,:]) |> raw_score -> raw_score/number_of_agents;\n",
    "    keep_flag = 0; # default value, we reject this ticker\n",
    "    if (score ≥ cutoff)\n",
    "        keep_flag = 1;\n",
    "    end\n",
    "    portfolio_tickers[i] = keep_flag\n",
    "end\n",
    "number_of_tickers_we_keep = findall(x-> x == 1, portfolio_tickers) |> length;"
   ]
  },
  {
   "cell_type": "markdown",
   "id": "d5b81806-8458-487b-8a88-db8dc0a93b26",
   "metadata": {},
   "source": [
    "To make our life easier below, let's build a `portfolio_ticker_index_lookup` table that maps the `ticker::String` symbol to the index of that ticker in our portfolio:"
   ]
  },
  {
   "cell_type": "code",
   "execution_count": 16,
   "id": "4bb68799-cf4e-4b6e-a9d5-bfccd4f2b5e8",
   "metadata": {},
   "outputs": [
    {
     "ename": "UndefVarError",
     "evalue": "UndefVarError: `portfolio_tickers` not defined",
     "output_type": "error",
     "traceback": [
      "UndefVarError: `portfolio_tickers` not defined\n",
      "\n",
      "Stacktrace:\n",
      " [1] top-level scope\n",
      "   @ ~/Desktop/ChemE 5660/PS6/jl_notebook_cell_df34fa98e69747e1a8f8a730347b8e2f_X42sZmlsZQ==.jl:2"
     ]
    }
   ],
   "source": [
    "portfolio_ticker_index_lookup = Dict{String, Int64}();\n",
    "idx = findall(x-> x == 1, portfolio_tickers)\n",
    "for i ∈ eachindex(idx) \n",
    "    ticker = my_tickers[idx[i]];\n",
    "    portfolio_ticker_index_lookup[ticker] = i;\n",
    "end\n",
    "portfolio_ticker_index_lookup"
   ]
  },
  {
   "cell_type": "markdown",
   "id": "1f865797-e7a1-4bfa-8f09-e16446c71e69",
   "metadata": {},
   "source": [
    "Now that we have the `portfolio_tickers::Array{Int64,1}`, we can build a table to see what's included in our portfolio. A value of `1` in the `portfolio_tickers::Array{Int64,1}` array indicates we keep the ticker, `0` indicates we reject the ticker. \n",
    "* `Unhide` the code block below to see how we built a ticker inclusion table [using the `pretty_tables(...)` function exported by the PrettyTables.jl package](https://github.com/ronisbr/PrettyTables.jl)"
   ]
  },
  {
   "cell_type": "code",
   "execution_count": 17,
   "id": "6dbe44b1-f964-4241-85ad-bfa023681be1",
   "metadata": {
    "jupyter": {
     "source_hidden": true
    }
   },
   "outputs": [
    {
     "ename": "UndefVarError",
     "evalue": "UndefVarError: `DataFrame` not defined",
     "output_type": "error",
     "traceback": [
      "UndefVarError: `DataFrame` not defined\n",
      "\n",
      "Stacktrace:\n",
      " [1] top-level scope\n",
      "   @ ~/Desktop/ChemE 5660/PS6/jl_notebook_cell_df34fa98e69747e1a8f8a730347b8e2f_X44sZmlsZQ==.jl:2"
     ]
    }
   ],
   "source": [
    "let\n",
    "    df = DataFrame();\n",
    "    counter = 1;\n",
    "    for i = 1:K\n",
    "        keep_flag = portfolio_tickers[i];\n",
    "        if (keep_flag == 1)\n",
    "            ticker = my_tickers[i];\n",
    "            row_data = (\n",
    "                index = counter,\n",
    "                ticker = ticker,\n",
    "            );\n",
    "            push!(df, row_data);\n",
    "            counter += 1;\n",
    "        end\n",
    "    end\n",
    "    pretty_table(df)\n",
    "end"
   ]
  },
  {
   "cell_type": "code",
   "execution_count": 18,
   "id": "52687dfa-fa50-4de1-9ab2-9818477d1d74",
   "metadata": {},
   "outputs": [],
   "source": [
    "do_I_see_my_ticker_table = true; # select {true | false}"
   ]
  },
  {
   "cell_type": "markdown",
   "id": "b721f074-3975-4035-83bf-51ff28799924",
   "metadata": {},
   "source": [
    "## Task 2: Simulate out-of-sample portfolio performance \n",
    "In this task, we simulate how well our portfolio will perform. Now that we have asked the agents which tickers to include in our portfolio $\\mathcal{P}$, let's run some simulations to see how this portfolio performs using an out-sample-data price set not used in agent training assuming equal portfolio weighting factors. As an alternative investment, we'll compare our portfolio against the performance of $\\mathcal{B}$ invested in `SPY.`\n",
    "\n",
    "Let's begin by generating an equally weighted allocation, which we store in the `ω::Array{Float64,1}` array"
   ]
  },
  {
   "cell_type": "code",
   "execution_count": 19,
   "id": "95102190-47b8-4301-8a69-657b44f93356",
   "metadata": {},
   "outputs": [
    {
     "ename": "UndefVarError",
     "evalue": "UndefVarError: `number_of_tickers_we_keep` not defined",
     "output_type": "error",
     "traceback": [
      "UndefVarError: `number_of_tickers_we_keep` not defined\n",
      "\n",
      "Stacktrace:\n",
      " [1] top-level scope\n",
      "   @ ~/Desktop/ChemE 5660/PS6/jl_notebook_cell_df34fa98e69747e1a8f8a730347b8e2f_X50sZmlsZQ==.jl:1"
     ]
    }
   ],
   "source": [
    "ω = (1/number_of_tickers_we_keep)*ones(number_of_tickers_we_keep);"
   ]
  },
  {
   "cell_type": "markdown",
   "id": "f21e896d-cb0c-4a5f-a04e-9f2dc9bd6629",
   "metadata": {},
   "source": [
    "Next, convert the fractions $\\omega_{i}$ into share counts $n_{i}$ at the beginning of the out-of-sample period. We know, from a `USD` balance, that:\n",
    "$$\n",
    "\\begin{equation}\n",
    "n_{i} = \\frac{\\omega_{i}\\cdot{\\mathcal{B}}}{S_{i,\\circ}}\n",
    "\\end{equation}\n",
    "$$\n",
    "where $n_{i}$ denote the number of shares to purchase in period 1, $\\omega_{i}$ denotes the fraction of the budget $\\mathcal{B}$ used for ticker $i$ in the portfolio, assuming a `USD` basis, and $S_{i,\\circ}$ denotes the share price of ticker $i$ when initializing the portfolio. We assume that we allocate the budget $\\mathcal{B}$ at the beginning of the out-of-sample period and do not reallocate the portfolio weights. \n",
    "* We store the investment budget in the `total_budget_to_allocation::Float64` variable and the number of shares of each ticker in the `n::Array{Float64,1}` array. We compute the number of shares using the expression above, where we iterate over _all K_ possible tickers and check if the ticker is in our portfolio $\\mathcal{P}$. If yes, we compute the share count using [the volume weighted average price](https://en.wikipedia.org/wiki/Volume-weighted_average_price) for period `1` and the random allocation fraction $\\omega_{i}$.\n",
    "* The `counter::Int64` value keeps track of the index of the ticker in the portfolio, i.e., the order of tickers in the portfolio (not the original list of tickers)."
   ]
  },
  {
   "cell_type": "code",
   "execution_count": 20,
   "id": "95ab385d-0299-444a-b09f-cf664ac2fa41",
   "metadata": {},
   "outputs": [
    {
     "ename": "UndefVarError",
     "evalue": "UndefVarError: `number_of_tickers_we_keep` not defined",
     "output_type": "error",
     "traceback": [
      "UndefVarError: `number_of_tickers_we_keep` not defined\n",
      "\n",
      "Stacktrace:\n",
      " [1] top-level scope\n",
      "   @ ~/Desktop/ChemE 5660/PS6/jl_notebook_cell_df34fa98e69747e1a8f8a730347b8e2f_X52sZmlsZQ==.jl:2"
     ]
    }
   ],
   "source": [
    "n = let\n",
    "    n = Array{Float64,1}(undef, number_of_tickers_we_keep);\n",
    "    counter = 1;\n",
    "    for i = 1:K\n",
    "        if (portfolio_tickers[i] == 1)\n",
    "            ticker = my_tickers[i];\n",
    "            price_df = outofsampledataset[ticker];\n",
    "            n[counter] = (total_budget_to_allocation*ω[counter])/(price_df[1,:volume_weighted_average_price]);\n",
    "            \n",
    "            # update -\n",
    "            counter+=1;\n",
    "        end\n",
    "    end\n",
    "    n\n",
    "end;"
   ]
  },
  {
   "cell_type": "markdown",
   "id": "a71ec089-a552-48e5-a9d6-7cadb9adbf7b",
   "metadata": {},
   "source": [
    "### Simulate out-of-sample portfolio performance\n",
    "To compute the out-of-sample wealth, we first populate the `portfolio_vwap_array::Array{Float64,2}` array, which holds [the volume weighted average price (vwap)](https://en.wikipedia.org/wiki/Volume-weighted_average_price) prices for the tickers in portfolio $\\mathcal{P}$. \n",
    "* We first initialize the `portfolio_vwap_array::Array{Float64,2}` array, then get the prices for the out-of-sample dataset by iterating over _all K_ tickers, checking if ticker `i` is in our portfolio; if yes, we get the `ticker::String` symbol, lookup the price data in the `outofsampledataset::Dict{String, DataFrame}` dictionary\n",
    "* We then extract the [the volume weighted average price](https://en.wikipedia.org/wiki/Volume-weighted_average_price) for period `1:(maximum_number_trading_days)`, i.e., each trading period value that we have for each ticker in the `outofsampledataset::Dict{String, DataFrame}` dictionary and insert into the `portfolio_vwap_array` array.\n",
    "* The `counter::Int64` value keeps track of the index of the ticker in the portfolio, i.e., the order of tickers in the portfolio (not the original list of tickers)."
   ]
  },
  {
   "cell_type": "code",
   "execution_count": 21,
   "id": "dedd1764-b6a1-44ca-ba18-ddd8bf46f4ac",
   "metadata": {},
   "outputs": [
    {
     "ename": "UndefVarError",
     "evalue": "UndefVarError: `maximum_number_trading_days` not defined",
     "output_type": "error",
     "traceback": [
      "UndefVarError: `maximum_number_trading_days` not defined\n",
      "\n",
      "Stacktrace:\n",
      " [1] top-level scope\n",
      "   @ ~/Desktop/ChemE 5660/PS6/jl_notebook_cell_df34fa98e69747e1a8f8a730347b8e2f_X54sZmlsZQ==.jl:2"
     ]
    }
   ],
   "source": [
    "portfolio_vwap_array = let\n",
    "    portfolio_vwap_array = Array{Float64,2}(undef, maximum_number_trading_days, number_of_tickers_we_keep);\n",
    "    counter = 1;\n",
    "    for i ∈ 1:K\n",
    "        if (portfolio_tickers[i] == 1)\n",
    "            ticker = my_tickers[i];\n",
    "            price_df = outofsampledataset[ticker];\n",
    "            for j = 1:(maximum_number_trading_days)\n",
    "                portfolio_vwap_array[j, counter] = price_df[j, :volume_weighted_average_price];\n",
    "            end\n",
    "    \n",
    "            # update -\n",
    "            counter += 1;\n",
    "        end\n",
    "    end\n",
    "    portfolio_vwap_array\n",
    "end;"
   ]
  },
  {
   "cell_type": "markdown",
   "id": "76b12ba3-0fa8-485b-bdb3-9b11c301d350",
   "metadata": {},
   "source": [
    "Finally, we can compute the performance of our portfolio and store this in the `wealth_array::Array{Float64,2}` variable. To do this, we iterate through each trading period in the out-of-sample dataset [using a `for-loop`](https://docs.julialang.org/en/v1/base/base/#for), where for each period, we:\n",
    "* Compute the scalar product between the share count vector $n$ and [the vwap](https://en.wikipedia.org/wiki/Volume-weighted_average_price) at time `t` using [the `dot(...)` function exported by the built-in Julia LinearAlgebra package.](https://docs.julialang.org/en/v1/stdlib/LinearAlgebra/#LinearAlgebra.dot) Next, we compute the wealth associated with the `SPY` only portfolio, where we assume that the entire `total_budget_to_allocation` budget is invested in `SPY,` i.e., $\\omega = 1$.\n",
    "* Finally, we store portfolio wealth, and the `SPY` only wealth in the `wealth_array::Array{Float64,2}`, where each row is a time-point, column `1` is our portfolio, and column `2` is `SPY.`"
   ]
  },
  {
   "cell_type": "code",
   "execution_count": 22,
   "id": "d2346ac7-3b99-4008-bb62-b84d1660b48a",
   "metadata": {},
   "outputs": [
    {
     "ename": "UndefVarError",
     "evalue": "UndefVarError: `maximum_number_trading_days` not defined",
     "output_type": "error",
     "traceback": [
      "UndefVarError: `maximum_number_trading_days` not defined\n",
      "\n",
      "Stacktrace:\n",
      " [1] top-level scope\n",
      "   @ ~/Desktop/ChemE 5660/PS6/jl_notebook_cell_df34fa98e69747e1a8f8a730347b8e2f_X56sZmlsZQ==.jl:2"
     ]
    }
   ],
   "source": [
    "wealth_array = let\n",
    "    wealth_array = Array{Float64,2}(undef, maximum_number_trading_days, 2)\n",
    "    for t = 1:maximum_number_trading_days\n",
    "        wealth_value_P = dot(n,portfolio_vwap_array[t,:]) # our portfolio\n",
    "        wealth_value_SPY = (total_budget_to_allocation/price_series_SPY[1,:volume_weighted_average_price])*price_series_SPY[t,:volume_weighted_average_price] # spy on its own\n",
    "        wealth_array[t,1] = wealth_value_P\n",
    "        wealth_array[t,2] = wealth_value_SPY\n",
    "    end\n",
    "    wealth_array\n",
    "end;"
   ]
  },
  {
   "cell_type": "markdown",
   "id": "80560c28-b0bd-4da1-bb04-74526d5c360a",
   "metadata": {},
   "source": [
    "### Visualize\n",
    "`Unhide` the code block below to see how we plotted the wealth of our portfolio (blue line) and the `SPY` investment (red line) for the out-of-sample dataset. \n",
    "#### Summary\n",
    "* Switching the `preference_dataset` variable may lead to different performance of the portfolio $\\mathcal{P}$ relative to `SPY` alone. We expect that while the wealth generated by the risk-aware portfolio is similar to or lower than the risk-blind selection, the performance variance will also be less. Thus, a risk-sensitive agent is willing to trade return for less uncertainty.\n",
    "* __Fun idea__: Our portfolio allocation is equally weighted. A better comparison would be to compute optimal weights $\\omega_{i}$ values by solving the minimum variance allocation problem we explored earlier (we leave this to you). Curious to see what happens.\n",
    "* __Another fun idea__: We developed the ticker pickers for a limited set of assets. I'm curious to see what happens if we expand the asset set beyond the 30 or so we picked, and re-run this analysis. "
   ]
  },
  {
   "cell_type": "code",
   "execution_count": 23,
   "id": "5b5d8128-7e1e-4738-b08e-afdcecda4b19",
   "metadata": {
    "jupyter": {
     "source_hidden": true
    }
   },
   "outputs": [
    {
     "ename": "UndefVarError",
     "evalue": "UndefVarError: `wealth_array` not defined",
     "output_type": "error",
     "traceback": [
      "UndefVarError: `wealth_array` not defined\n",
      "\n",
      "Stacktrace:\n",
      " [1] top-level scope\n",
      "   @ ~/Desktop/ChemE 5660/PS6/jl_notebook_cell_df34fa98e69747e1a8f8a730347b8e2f_X61sZmlsZQ==.jl:2"
     ]
    }
   ],
   "source": [
    "let\n",
    "    plot(wealth_array[:,1], c=:blue, label=\"Ticker Picker $(risktag) Portfolio\", lw=2, \n",
    "        bg=\"gray95\", background_color_outside=\"white\", framestyle = :box, fg_legend = :transparent)\n",
    "    plot!(wealth_array[:,2], c=:red, label=\"SPY (2024)\", lw=2)\n",
    "    xlabel!(\"Trading period index (day)\", fontsize = 18)\n",
    "    ylabel!(\"Wealth (USD)\", fontsize=18)\n",
    "end"
   ]
  },
  {
   "cell_type": "code",
   "execution_count": 24,
   "id": "53c73fc9-8549-4a43-a1fb-a3c834bf30ab",
   "metadata": {},
   "outputs": [],
   "source": [
    "do_I_see_the_OOS_wealth_plot = true; # {true | false}"
   ]
  },
  {
   "cell_type": "markdown",
   "id": "60a017d3-814a-48f7-b901-3053b1ef9277",
   "metadata": {},
   "source": [
    "## Tests\n",
    "In the code block below, we check some values in your notebook and give you feedback on which items are correct or different. `Unhide` the code block below (if you are curious) about how we implemented the tests and what we are testing."
   ]
  },
  {
   "cell_type": "code",
   "execution_count": 25,
   "id": "6569684a-0719-48d2-b667-1aa625e74670",
   "metadata": {},
   "outputs": [
    {
     "ename": "LoadError",
     "evalue": "LoadError: UndefVarError: `@testset` not defined\nin expression starting at /Users/samanthaceron/Desktop/ChemE 5660/PS6/jl_notebook_cell_df34fa98e69747e1a8f8a730347b8e2f_X64sZmlsZQ==.jl:2",
     "output_type": "error",
     "traceback": [
      "LoadError: UndefVarError: `@testset` not defined\n",
      "in expression starting at /Users/samanthaceron/Desktop/ChemE 5660/PS6/jl_notebook_cell_df34fa98e69747e1a8f8a730347b8e2f_X64sZmlsZQ==.jl:2\n"
     ]
    }
   ],
   "source": [
    "let \n",
    "    @testset verbose = true \"CHEME 5660 problem set 6 test suite\" begin\n",
    "\n",
    "        @testset \"Task 1: Preferences\" begin\n",
    "            @test risktag == \"risk_aware\" || risktag == \"risk_blind\"\n",
    "            @test isempty(preference_dataset) == false\n",
    "            @test isempty(votes) == false\n",
    "            @test do_I_see_the_overall_score_table == true\n",
    "            @test 0 < cutoff && cutoff ≤ 1.0\n",
    "            @test do_I_see_my_ticker_table == true\n",
    "        end\n",
    "\n",
    "        @testset \"Task 2: Simulation\" begin\n",
    "            @test isempty(ω) == false\n",
    "            @test isempty(portfolio_vwap_array) == false\n",
    "            @test isempty(wealth_array) == false\n",
    "            @test do_I_see_the_OOS_wealth_plot == true\n",
    "        end\n",
    "    end\n",
    "end;"
   ]
  },
  {
   "cell_type": "markdown",
   "id": "6d799450-e1b3-4f6b-aa5c-edea6a74c468",
   "metadata": {},
   "source": [
    "## Disclaimer and Risks\n",
    "__This content is offered solely for training and informational purposes__. No offer or solicitation to buy or sell securities or derivative products or any investment or trading advice or strategy is made, given, or endorsed by the teaching team. \n",
    "\n",
    "__Trading involves risk__. Carefully review your financial situation before investing in securities, futures contracts, options, or commodity interests. Past performance, whether actual or indicated by historical tests of strategies, is no guarantee of future performance or success. Trading is generally inappropriate for someone with limited resources, investment or trading experience, or a low-risk tolerance.  Only risk capital that is not required for living expenses.\n",
    "\n",
    "__You are fully responsible for any investment or trading decisions you make__. Such decisions should be based solely on evaluating your financial circumstances, investment or trading objectives, risk tolerance, and liquidity needs."
   ]
  }
 ],
 "metadata": {
  "kernelspec": {
   "display_name": "Julia 1.10.0",
   "language": "julia",
   "name": "julia-1.10"
  },
  "language_info": {
   "file_extension": ".jl",
   "mimetype": "application/julia",
   "name": "julia",
   "version": "1.10.0"
  }
 },
 "nbformat": 4,
 "nbformat_minor": 5
}
